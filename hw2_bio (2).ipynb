{
  "nbformat": 4,
  "nbformat_minor": 0,
  "metadata": {
    "colab": {
      "name": "hw2_bio.ipynb",
      "provenance": [],
      "collapsed_sections": []
    },
    "kernelspec": {
      "display_name": "Python 3",
      "name": "python3"
    },
    "language_info": {
      "name": "python"
    }
  },
  "cells": [
    {
      "cell_type": "markdown",
      "metadata": {
        "id": "VxQn3DxUjEap"
      },
      "source": [
        "# Обработка данных"
      ]
    },
    {
      "cell_type": "code",
      "metadata": {
        "id": "BWHEIS2HqNil"
      },
      "source": [
        "import pandas as pd\n",
        "import matplotlib.pyplot as plt\n",
        "import seaborn as sns\n",
        "import numpy as np\n",
        "%matplotlib inline\n",
        "%config InlineBackend.figure_format = 'retina'\n",
        "\n",
        "sns.set(style=\"darkgrid\")"
      ],
      "execution_count": 1,
      "outputs": []
    },
    {
      "cell_type": "code",
      "metadata": {
        "colab": {
          "base_uri": "https://localhost:8080/"
        },
        "id": "vxvNBb_5qOnw",
        "outputId": "9734d39f-6465-4cf5-96e8-20fec96abcf6"
      },
      "source": [
        "!wget https://github.com/netwasted/hse21_H2AFZ_ZDNA_human/raw/main/data/H2AFZ_brain.intersect_with_DeepZ.bed"
      ],
      "execution_count": 2,
      "outputs": [
        {
          "output_type": "stream",
          "name": "stdout",
          "text": [
            "--2021-12-01 20:33:21--  https://github.com/netwasted/hse21_H2AFZ_ZDNA_human/raw/main/data/H2AFZ_brain.intersect_with_DeepZ.bed\n",
            "Resolving github.com (github.com)... 140.82.112.4\n",
            "Connecting to github.com (github.com)|140.82.112.4|:443... connected.\n",
            "HTTP request sent, awaiting response... 302 Found\n",
            "Location: https://raw.githubusercontent.com/netwasted/hse21_H2AFZ_ZDNA_human/main/data/H2AFZ_brain.intersect_with_DeepZ.bed [following]\n",
            "--2021-12-01 20:33:22--  https://raw.githubusercontent.com/netwasted/hse21_H2AFZ_ZDNA_human/main/data/H2AFZ_brain.intersect_with_DeepZ.bed\n",
            "Resolving raw.githubusercontent.com (raw.githubusercontent.com)... 185.199.109.133, 185.199.110.133, 185.199.108.133, ...\n",
            "Connecting to raw.githubusercontent.com (raw.githubusercontent.com)|185.199.109.133|:443... connected.\n",
            "HTTP request sent, awaiting response... 200 OK\n",
            "Length: 303183 (296K) [text/plain]\n",
            "Saving to: ‘H2AFZ_brain.intersect_with_DeepZ.bed’\n",
            "\n",
            "H2AFZ_brain.interse 100%[===================>] 296.08K  --.-KB/s    in 0.03s   \n",
            "\n",
            "2021-12-01 20:33:22 (8.88 MB/s) - ‘H2AFZ_brain.intersect_with_DeepZ.bed’ saved [303183/303183]\n",
            "\n"
          ]
        }
      ]
    },
    {
      "cell_type": "code",
      "metadata": {
        "id": "lHw3MU5hqPeI"
      },
      "source": [
        "pos = pd.read_csv('H2AFZ_brain.intersect_with_DeepZ.bed', sep='\\t', header=None)\n",
        "header = ['chrom', 'chromStart', 'chromEnd']\n",
        "pos.columns = header[:len(pos.columns)]"
      ],
      "execution_count": 3,
      "outputs": []
    },
    {
      "cell_type": "code",
      "metadata": {
        "colab": {
          "base_uri": "https://localhost:8080/",
          "height": 423
        },
        "id": "cVwI_wGVqoSk",
        "outputId": "8962321d-ca4d-4490-ec9c-49b733ac79a9"
      },
      "source": [
        "pos"
      ],
      "execution_count": 4,
      "outputs": [
        {
          "output_type": "execute_result",
          "data": {
            "text/html": [
              "<div>\n",
              "<style scoped>\n",
              "    .dataframe tbody tr th:only-of-type {\n",
              "        vertical-align: middle;\n",
              "    }\n",
              "\n",
              "    .dataframe tbody tr th {\n",
              "        vertical-align: top;\n",
              "    }\n",
              "\n",
              "    .dataframe thead th {\n",
              "        text-align: right;\n",
              "    }\n",
              "</style>\n",
              "<table border=\"1\" class=\"dataframe\">\n",
              "  <thead>\n",
              "    <tr style=\"text-align: right;\">\n",
              "      <th></th>\n",
              "      <th>chrom</th>\n",
              "      <th>chromStart</th>\n",
              "      <th>chromEnd</th>\n",
              "    </tr>\n",
              "  </thead>\n",
              "  <tbody>\n",
              "    <tr>\n",
              "      <th>0</th>\n",
              "      <td>chr1</td>\n",
              "      <td>762665</td>\n",
              "      <td>762892</td>\n",
              "    </tr>\n",
              "    <tr>\n",
              "      <th>1</th>\n",
              "      <td>chr1</td>\n",
              "      <td>894548</td>\n",
              "      <td>894874</td>\n",
              "    </tr>\n",
              "    <tr>\n",
              "      <th>2</th>\n",
              "      <td>chr1</td>\n",
              "      <td>934027</td>\n",
              "      <td>934044</td>\n",
              "    </tr>\n",
              "    <tr>\n",
              "      <th>3</th>\n",
              "      <td>chr1</td>\n",
              "      <td>975932</td>\n",
              "      <td>976162</td>\n",
              "    </tr>\n",
              "    <tr>\n",
              "      <th>4</th>\n",
              "      <td>chr1</td>\n",
              "      <td>1004735</td>\n",
              "      <td>1004904</td>\n",
              "    </tr>\n",
              "    <tr>\n",
              "      <th>...</th>\n",
              "      <td>...</td>\n",
              "      <td>...</td>\n",
              "      <td>...</td>\n",
              "    </tr>\n",
              "    <tr>\n",
              "      <th>12701</th>\n",
              "      <td>chrY</td>\n",
              "      <td>2709577</td>\n",
              "      <td>2709618</td>\n",
              "    </tr>\n",
              "    <tr>\n",
              "      <th>12702</th>\n",
              "      <td>chrY</td>\n",
              "      <td>2709789</td>\n",
              "      <td>2709805</td>\n",
              "    </tr>\n",
              "    <tr>\n",
              "      <th>12703</th>\n",
              "      <td>chrY</td>\n",
              "      <td>13458427</td>\n",
              "      <td>13458504</td>\n",
              "    </tr>\n",
              "    <tr>\n",
              "      <th>12704</th>\n",
              "      <td>chrY</td>\n",
              "      <td>13833280</td>\n",
              "      <td>13833404</td>\n",
              "    </tr>\n",
              "    <tr>\n",
              "      <th>12705</th>\n",
              "      <td>chrY</td>\n",
              "      <td>15591912</td>\n",
              "      <td>15591954</td>\n",
              "    </tr>\n",
              "  </tbody>\n",
              "</table>\n",
              "<p>12706 rows × 3 columns</p>\n",
              "</div>"
            ],
            "text/plain": [
              "      chrom  chromStart  chromEnd\n",
              "0      chr1      762665    762892\n",
              "1      chr1      894548    894874\n",
              "2      chr1      934027    934044\n",
              "3      chr1      975932    976162\n",
              "4      chr1     1004735   1004904\n",
              "...     ...         ...       ...\n",
              "12701  chrY     2709577   2709618\n",
              "12702  chrY     2709789   2709805\n",
              "12703  chrY    13458427  13458504\n",
              "12704  chrY    13833280  13833404\n",
              "12705  chrY    15591912  15591954\n",
              "\n",
              "[12706 rows x 3 columns]"
            ]
          },
          "metadata": {},
          "execution_count": 4
        }
      ]
    },
    {
      "cell_type": "code",
      "metadata": {
        "id": "pHQeUQG_rGtu"
      },
      "source": [
        "pos['len'] = pos['chromEnd'] - pos['chromStart']"
      ],
      "execution_count": 5,
      "outputs": []
    },
    {
      "cell_type": "code",
      "metadata": {
        "id": "sO_8fFkX9NjC"
      },
      "source": [
        "pos['center'] = (pos['chromStart'] + pos['chromEnd']) // 2"
      ],
      "execution_count": 6,
      "outputs": []
    },
    {
      "cell_type": "code",
      "metadata": {
        "colab": {
          "base_uri": "https://localhost:8080/",
          "height": 465
        },
        "id": "nqu2cARZsWmE",
        "outputId": "a6691a63-fb17-4d45-a720-7484d7fb303a"
      },
      "source": [
        "plt.rcParams['figure.figsize'] = 14, 7\n",
        "plt.rcParams['font.size'] = 12\n",
        "plt.hist(pos['chromEnd'] - pos['chromStart'], bins=100)\n",
        "plt.title('Распределение длин участков пересечения гистоновой метки и вторичной структуры ДНК', size=16)\n",
        "plt.xlabel('Длины участков')\n",
        "plt.ylabel('Число значений')\n",
        "plt.show()"
      ],
      "execution_count": 7,
      "outputs": [
        {
          "output_type": "display_data",
          "data": {
            "image/png": "[encoded data removed]",
            "text/plain": [
              "<Figure size 1008x504 with 1 Axes>"
            ]
          },
          "metadata": {
            "image/png": {
              "width": 849,
              "height": 448
            },
            "needs_background": "light"
          }
        }
      ]
    },
    {
      "cell_type": "code",
      "metadata": {
        "colab": {
          "base_uri": "https://localhost:8080/"
        },
        "id": "XMCiHjV1r6dF",
        "outputId": "4d84e1d8-07d2-46f7-8c85-b95533ea2a28"
      },
      "source": [
        "pos['len'].value_counts()"
      ],
      "execution_count": 8,
      "outputs": [
        {
          "output_type": "execute_result",
          "data": {
            "text/plain": [
              "11     269\n",
              "12     220\n",
              "15     207\n",
              "14     203\n",
              "13     200\n",
              "      ... \n",
              "587      1\n",
              "531      1\n",
              "491      1\n",
              "459      1\n",
              "747      1\n",
              "Name: len, Length: 632, dtype: int64"
            ]
          },
          "metadata": {},
          "execution_count": 8
        }
      ]
    },
    {
      "cell_type": "markdown",
      "metadata": {
        "id": "N--Y9GA7syXh"
      },
      "source": [
        "Предлагается отобрать участки примерно одинаковой длины, но чтобы модель корректно обучилась, нам нужен большой объем данных. Из гистограммы видно, что у нас много маленьких пересечений, поэтому возьму те, у которых длина 14 bp:"
      ]
    },
    {
      "cell_type": "code",
      "metadata": {
        "colab": {
          "base_uri": "https://localhost:8080/",
          "height": 423
        },
        "id": "yjZ-B4vD-Ral",
        "outputId": "f9a7fc2d-0556-43c5-cef0-a341bca38980"
      },
      "source": [
        "pos[pos['len'] == 14]"
      ],
      "execution_count": 9,
      "outputs": [
        {
          "output_type": "execute_result",
          "data": {
            "text/html": [
              "<div>\n",
              "<style scoped>\n",
              "    .dataframe tbody tr th:only-of-type {\n",
              "        vertical-align: middle;\n",
              "    }\n",
              "\n",
              "    .dataframe tbody tr th {\n",
              "        vertical-align: top;\n",
              "    }\n",
              "\n",
              "    .dataframe thead th {\n",
              "        text-align: right;\n",
              "    }\n",
              "</style>\n",
              "<table border=\"1\" class=\"dataframe\">\n",
              "  <thead>\n",
              "    <tr style=\"text-align: right;\">\n",
              "      <th></th>\n",
              "      <th>chrom</th>\n",
              "      <th>chromStart</th>\n",
              "      <th>chromEnd</th>\n",
              "      <th>len</th>\n",
              "      <th>center</th>\n",
              "    </tr>\n",
              "  </thead>\n",
              "  <tbody>\n",
              "    <tr>\n",
              "      <th>5</th>\n",
              "      <td>chr1</td>\n",
              "      <td>1051479</td>\n",
              "      <td>1051493</td>\n",
              "      <td>14</td>\n",
              "      <td>1051486</td>\n",
              "    </tr>\n",
              "    <tr>\n",
              "      <th>47</th>\n",
              "      <td>chr1</td>\n",
              "      <td>6259985</td>\n",
              "      <td>6259999</td>\n",
              "      <td>14</td>\n",
              "      <td>6259992</td>\n",
              "    </tr>\n",
              "    <tr>\n",
              "      <th>182</th>\n",
              "      <td>chr1</td>\n",
              "      <td>24970074</td>\n",
              "      <td>24970088</td>\n",
              "      <td>14</td>\n",
              "      <td>24970081</td>\n",
              "    </tr>\n",
              "    <tr>\n",
              "      <th>240</th>\n",
              "      <td>chr1</td>\n",
              "      <td>28879753</td>\n",
              "      <td>28879767</td>\n",
              "      <td>14</td>\n",
              "      <td>28879760</td>\n",
              "    </tr>\n",
              "    <tr>\n",
              "      <th>329</th>\n",
              "      <td>chr1</td>\n",
              "      <td>38218836</td>\n",
              "      <td>38218850</td>\n",
              "      <td>14</td>\n",
              "      <td>38218843</td>\n",
              "    </tr>\n",
              "    <tr>\n",
              "      <th>...</th>\n",
              "      <td>...</td>\n",
              "      <td>...</td>\n",
              "      <td>...</td>\n",
              "      <td>...</td>\n",
              "      <td>...</td>\n",
              "    </tr>\n",
              "    <tr>\n",
              "      <th>12506</th>\n",
              "      <td>chrX</td>\n",
              "      <td>24043251</td>\n",
              "      <td>24043265</td>\n",
              "      <td>14</td>\n",
              "      <td>24043258</td>\n",
              "    </tr>\n",
              "    <tr>\n",
              "      <th>12563</th>\n",
              "      <td>chrX</td>\n",
              "      <td>54835539</td>\n",
              "      <td>54835553</td>\n",
              "      <td>14</td>\n",
              "      <td>54835546</td>\n",
              "    </tr>\n",
              "    <tr>\n",
              "      <th>12583</th>\n",
              "      <td>chrX</td>\n",
              "      <td>70366062</td>\n",
              "      <td>70366076</td>\n",
              "      <td>14</td>\n",
              "      <td>70366069</td>\n",
              "    </tr>\n",
              "    <tr>\n",
              "      <th>12596</th>\n",
              "      <td>chrX</td>\n",
              "      <td>73641488</td>\n",
              "      <td>73641502</td>\n",
              "      <td>14</td>\n",
              "      <td>73641495</td>\n",
              "    </tr>\n",
              "    <tr>\n",
              "      <th>12690</th>\n",
              "      <td>chrX</td>\n",
              "      <td>153626474</td>\n",
              "      <td>153626488</td>\n",
              "      <td>14</td>\n",
              "      <td>153626481</td>\n",
              "    </tr>\n",
              "  </tbody>\n",
              "</table>\n",
              "<p>203 rows × 5 columns</p>\n",
              "</div>"
            ],
            "text/plain": [
              "      chrom  chromStart   chromEnd  len     center\n",
              "5      chr1     1051479    1051493   14    1051486\n",
              "47     chr1     6259985    6259999   14    6259992\n",
              "182    chr1    24970074   24970088   14   24970081\n",
              "240    chr1    28879753   28879767   14   28879760\n",
              "329    chr1    38218836   38218850   14   38218843\n",
              "...     ...         ...        ...  ...        ...\n",
              "12506  chrX    24043251   24043265   14   24043258\n",
              "12563  chrX    54835539   54835553   14   54835546\n",
              "12583  chrX    70366062   70366076   14   70366069\n",
              "12596  chrX    73641488   73641502   14   73641495\n",
              "12690  chrX   153626474  153626488   14  153626481\n",
              "\n",
              "[203 rows x 5 columns]"
            ]
          },
          "metadata": {},
          "execution_count": 9
        }
      ]
    },
    {
      "cell_type": "code",
      "metadata": {
        "id": "kEX55L0Fqw7R"
      },
      "source": [
        "pos.drop(pos[pos['len'] != 14].index, inplace=True)"
      ],
      "execution_count": 10,
      "outputs": []
    },
    {
      "cell_type": "code",
      "metadata": {
        "colab": {
          "base_uri": "https://localhost:8080/",
          "height": 423
        },
        "id": "kkMnJdANuVpH",
        "outputId": "b96b74ee-855a-4541-f881-1a9117d7f5b4"
      },
      "source": [
        "pos"
      ],
      "execution_count": 11,
      "outputs": [
        {
          "output_type": "execute_result",
          "data": {
            "text/html": [
              "<div>\n",
              "<style scoped>\n",
              "    .dataframe tbody tr th:only-of-type {\n",
              "        vertical-align: middle;\n",
              "    }\n",
              "\n",
              "    .dataframe tbody tr th {\n",
              "        vertical-align: top;\n",
              "    }\n",
              "\n",
              "    .dataframe thead th {\n",
              "        text-align: right;\n",
              "    }\n",
              "</style>\n",
              "<table border=\"1\" class=\"dataframe\">\n",
              "  <thead>\n",
              "    <tr style=\"text-align: right;\">\n",
              "      <th></th>\n",
              "      <th>chrom</th>\n",
              "      <th>chromStart</th>\n",
              "      <th>chromEnd</th>\n",
              "      <th>len</th>\n",
              "      <th>center</th>\n",
              "    </tr>\n",
              "  </thead>\n",
              "  <tbody>\n",
              "    <tr>\n",
              "      <th>5</th>\n",
              "      <td>chr1</td>\n",
              "      <td>1051479</td>\n",
              "      <td>1051493</td>\n",
              "      <td>14</td>\n",
              "      <td>1051486</td>\n",
              "    </tr>\n",
              "    <tr>\n",
              "      <th>47</th>\n",
              "      <td>chr1</td>\n",
              "      <td>6259985</td>\n",
              "      <td>6259999</td>\n",
              "      <td>14</td>\n",
              "      <td>6259992</td>\n",
              "    </tr>\n",
              "    <tr>\n",
              "      <th>182</th>\n",
              "      <td>chr1</td>\n",
              "      <td>24970074</td>\n",
              "      <td>24970088</td>\n",
              "      <td>14</td>\n",
              "      <td>24970081</td>\n",
              "    </tr>\n",
              "    <tr>\n",
              "      <th>240</th>\n",
              "      <td>chr1</td>\n",
              "      <td>28879753</td>\n",
              "      <td>28879767</td>\n",
              "      <td>14</td>\n",
              "      <td>28879760</td>\n",
              "    </tr>\n",
              "    <tr>\n",
              "      <th>329</th>\n",
              "      <td>chr1</td>\n",
              "      <td>38218836</td>\n",
              "      <td>38218850</td>\n",
              "      <td>14</td>\n",
              "      <td>38218843</td>\n",
              "    </tr>\n",
              "    <tr>\n",
              "      <th>...</th>\n",
              "      <td>...</td>\n",
              "      <td>...</td>\n",
              "      <td>...</td>\n",
              "      <td>...</td>\n",
              "      <td>...</td>\n",
              "    </tr>\n",
              "    <tr>\n",
              "      <th>12506</th>\n",
              "      <td>chrX</td>\n",
              "      <td>24043251</td>\n",
              "      <td>24043265</td>\n",
              "      <td>14</td>\n",
              "      <td>24043258</td>\n",
              "    </tr>\n",
              "    <tr>\n",
              "      <th>12563</th>\n",
              "      <td>chrX</td>\n",
              "      <td>54835539</td>\n",
              "      <td>54835553</td>\n",
              "      <td>14</td>\n",
              "      <td>54835546</td>\n",
              "    </tr>\n",
              "    <tr>\n",
              "      <th>12583</th>\n",
              "      <td>chrX</td>\n",
              "      <td>70366062</td>\n",
              "      <td>70366076</td>\n",
              "      <td>14</td>\n",
              "      <td>70366069</td>\n",
              "    </tr>\n",
              "    <tr>\n",
              "      <th>12596</th>\n",
              "      <td>chrX</td>\n",
              "      <td>73641488</td>\n",
              "      <td>73641502</td>\n",
              "      <td>14</td>\n",
              "      <td>73641495</td>\n",
              "    </tr>\n",
              "    <tr>\n",
              "      <th>12690</th>\n",
              "      <td>chrX</td>\n",
              "      <td>153626474</td>\n",
              "      <td>153626488</td>\n",
              "      <td>14</td>\n",
              "      <td>153626481</td>\n",
              "    </tr>\n",
              "  </tbody>\n",
              "</table>\n",
              "<p>203 rows × 5 columns</p>\n",
              "</div>"
            ],
            "text/plain": [
              "      chrom  chromStart   chromEnd  len     center\n",
              "5      chr1     1051479    1051493   14    1051486\n",
              "47     chr1     6259985    6259999   14    6259992\n",
              "182    chr1    24970074   24970088   14   24970081\n",
              "240    chr1    28879753   28879767   14   28879760\n",
              "329    chr1    38218836   38218850   14   38218843\n",
              "...     ...         ...        ...  ...        ...\n",
              "12506  chrX    24043251   24043265   14   24043258\n",
              "12563  chrX    54835539   54835553   14   54835546\n",
              "12583  chrX    70366062   70366076   14   70366069\n",
              "12596  chrX    73641488   73641502   14   73641495\n",
              "12690  chrX   153626474  153626488   14  153626481\n",
              "\n",
              "[203 rows x 5 columns]"
            ]
          },
          "metadata": {},
          "execution_count": 11
        }
      ]
    },
    {
      "cell_type": "code",
      "metadata": {
        "id": "21oUchQi-4R-"
      },
      "source": [
        "pos['chromStart'] = pos['center'] - 7"
      ],
      "execution_count": 12,
      "outputs": []
    },
    {
      "cell_type": "code",
      "metadata": {
        "id": "2bYOase7_pEo"
      },
      "source": [
        "pos['chromEnd'] = pos['center'] + 7"
      ],
      "execution_count": 13,
      "outputs": []
    },
    {
      "cell_type": "code",
      "metadata": {
        "colab": {
          "base_uri": "https://localhost:8080/",
          "height": 423
        },
        "id": "SU_2jpnY_UMx",
        "outputId": "b5d43c03-376e-4c7e-82c3-a7456113d30b"
      },
      "source": [
        "pos"
      ],
      "execution_count": 14,
      "outputs": [
        {
          "output_type": "execute_result",
          "data": {
            "text/html": [
              "<div>\n",
              "<style scoped>\n",
              "    .dataframe tbody tr th:only-of-type {\n",
              "        vertical-align: middle;\n",
              "    }\n",
              "\n",
              "    .dataframe tbody tr th {\n",
              "        vertical-align: top;\n",
              "    }\n",
              "\n",
              "    .dataframe thead th {\n",
              "        text-align: right;\n",
              "    }\n",
              "</style>\n",
              "<table border=\"1\" class=\"dataframe\">\n",
              "  <thead>\n",
              "    <tr style=\"text-align: right;\">\n",
              "      <th></th>\n",
              "      <th>chrom</th>\n",
              "      <th>chromStart</th>\n",
              "      <th>chromEnd</th>\n",
              "      <th>len</th>\n",
              "      <th>center</th>\n",
              "    </tr>\n",
              "  </thead>\n",
              "  <tbody>\n",
              "    <tr>\n",
              "      <th>5</th>\n",
              "      <td>chr1</td>\n",
              "      <td>1051479</td>\n",
              "      <td>1051493</td>\n",
              "      <td>14</td>\n",
              "      <td>1051486</td>\n",
              "    </tr>\n",
              "    <tr>\n",
              "      <th>47</th>\n",
              "      <td>chr1</td>\n",
              "      <td>6259985</td>\n",
              "      <td>6259999</td>\n",
              "      <td>14</td>\n",
              "      <td>6259992</td>\n",
              "    </tr>\n",
              "    <tr>\n",
              "      <th>182</th>\n",
              "      <td>chr1</td>\n",
              "      <td>24970074</td>\n",
              "      <td>24970088</td>\n",
              "      <td>14</td>\n",
              "      <td>24970081</td>\n",
              "    </tr>\n",
              "    <tr>\n",
              "      <th>240</th>\n",
              "      <td>chr1</td>\n",
              "      <td>28879753</td>\n",
              "      <td>28879767</td>\n",
              "      <td>14</td>\n",
              "      <td>28879760</td>\n",
              "    </tr>\n",
              "    <tr>\n",
              "      <th>329</th>\n",
              "      <td>chr1</td>\n",
              "      <td>38218836</td>\n",
              "      <td>38218850</td>\n",
              "      <td>14</td>\n",
              "      <td>38218843</td>\n",
              "    </tr>\n",
              "    <tr>\n",
              "      <th>...</th>\n",
              "      <td>...</td>\n",
              "      <td>...</td>\n",
              "      <td>...</td>\n",
              "      <td>...</td>\n",
              "      <td>...</td>\n",
              "    </tr>\n",
              "    <tr>\n",
              "      <th>12506</th>\n",
              "      <td>chrX</td>\n",
              "      <td>24043251</td>\n",
              "      <td>24043265</td>\n",
              "      <td>14</td>\n",
              "      <td>24043258</td>\n",
              "    </tr>\n",
              "    <tr>\n",
              "      <th>12563</th>\n",
              "      <td>chrX</td>\n",
              "      <td>54835539</td>\n",
              "      <td>54835553</td>\n",
              "      <td>14</td>\n",
              "      <td>54835546</td>\n",
              "    </tr>\n",
              "    <tr>\n",
              "      <th>12583</th>\n",
              "      <td>chrX</td>\n",
              "      <td>70366062</td>\n",
              "      <td>70366076</td>\n",
              "      <td>14</td>\n",
              "      <td>70366069</td>\n",
              "    </tr>\n",
              "    <tr>\n",
              "      <th>12596</th>\n",
              "      <td>chrX</td>\n",
              "      <td>73641488</td>\n",
              "      <td>73641502</td>\n",
              "      <td>14</td>\n",
              "      <td>73641495</td>\n",
              "    </tr>\n",
              "    <tr>\n",
              "      <th>12690</th>\n",
              "      <td>chrX</td>\n",
              "      <td>153626474</td>\n",
              "      <td>153626488</td>\n",
              "      <td>14</td>\n",
              "      <td>153626481</td>\n",
              "    </tr>\n",
              "  </tbody>\n",
              "</table>\n",
              "<p>203 rows × 5 columns</p>\n",
              "</div>"
            ],
            "text/plain": [
              "      chrom  chromStart   chromEnd  len     center\n",
              "5      chr1     1051479    1051493   14    1051486\n",
              "47     chr1     6259985    6259999   14    6259992\n",
              "182    chr1    24970074   24970088   14   24970081\n",
              "240    chr1    28879753   28879767   14   28879760\n",
              "329    chr1    38218836   38218850   14   38218843\n",
              "...     ...         ...        ...  ...        ...\n",
              "12506  chrX    24043251   24043265   14   24043258\n",
              "12563  chrX    54835539   54835553   14   54835546\n",
              "12583  chrX    70366062   70366076   14   70366069\n",
              "12596  chrX    73641488   73641502   14   73641495\n",
              "12690  chrX   153626474  153626488   14  153626481\n",
              "\n",
              "[203 rows x 5 columns]"
            ]
          },
          "metadata": {},
          "execution_count": 14
        }
      ]
    },
    {
      "cell_type": "code",
      "metadata": {
        "colab": {
          "base_uri": "https://localhost:8080/"
        },
        "id": "oMtxLGBUn36j",
        "outputId": "29b97036-3e30-45cf-8326-acc4f1ea0d98"
      },
      "source": [
        "!wget https://www.dropbox.com/s/5mps86dwoymdhil/Genome.bed"
      ],
      "execution_count": 15,
      "outputs": [
        {
          "output_type": "stream",
          "name": "stdout",
          "text": [
            "--2021-12-01 20:33:23--  https://www.dropbox.com/s/5mps86dwoymdhil/Genome.bed\n",
            "Resolving www.dropbox.com (www.dropbox.com)... 162.125.5.18, 2620:100:601d:18::a27d:512\n",
            "Connecting to www.dropbox.com (www.dropbox.com)|162.125.5.18|:443... connected.\n",
            "HTTP request sent, awaiting response... 301 Moved Permanently\n",
            "Location: /s/raw/5mps86dwoymdhil/Genome.bed [following]\n",
            "--2021-12-01 20:33:23--  https://www.dropbox.com/s/raw/5mps86dwoymdhil/Genome.bed\n",
            "Reusing existing connection to www.dropbox.com:443.\n",
            "HTTP request sent, awaiting response... 302 Found\n",
            "Location: https://ucf0d9f14c74d40445d8db3dccd8.dl.dropboxusercontent.com/cd/0/inline/BbDUtmy4vbBGv81bdiAeWKy_HyerS700T1QmhoolLeI3d6xynb0aDoPmbqkZ9449_0UTXd6ACfC_p-YBSqcbmPBxkxYnA9JXz1h0ieqOlDZI9pH_H4pSv8X2ZnMO-1tepmQlViBVjVjL03573P59HUBM/file# [following]\n",
            "--2021-12-01 20:33:24--  https://ucf0d9f14c74d40445d8db3dccd8.dl.dropboxusercontent.com/cd/0/inline/BbDUtmy4vbBGv81bdiAeWKy_HyerS700T1QmhoolLeI3d6xynb0aDoPmbqkZ9449_0UTXd6ACfC_p-YBSqcbmPBxkxYnA9JXz1h0ieqOlDZI9pH_H4pSv8X2ZnMO-1tepmQlViBVjVjL03573P59HUBM/file\n",
            "Resolving ucf0d9f14c74d40445d8db3dccd8.dl.dropboxusercontent.com (ucf0d9f14c74d40445d8db3dccd8.dl.dropboxusercontent.com)... 162.125.5.15, 2620:100:601d:15::a27d:50f\n",
            "Connecting to ucf0d9f14c74d40445d8db3dccd8.dl.dropboxusercontent.com (ucf0d9f14c74d40445d8db3dccd8.dl.dropboxusercontent.com)|162.125.5.15|:443... connected.\n",
            "HTTP request sent, awaiting response... 200 OK\n",
            "Length: 14247271 (14M) [text/plain]\n",
            "Saving to: ‘Genome.bed’\n",
            "\n",
            "Genome.bed          100%[===================>]  13.59M  32.2MB/s    in 0.4s    \n",
            "\n",
            "2021-12-01 20:33:24 (32.2 MB/s) - ‘Genome.bed’ saved [14247271/14247271]\n",
            "\n"
          ]
        }
      ]
    },
    {
      "cell_type": "code",
      "metadata": {
        "colab": {
          "base_uri": "https://localhost:8080/"
        },
        "id": "FJ2K7dDpAZQS",
        "outputId": "6231418d-bd11-4c6e-ffe2-d5db14c89013"
      },
      "source": [
        "!wget http://hgdownload.cse.ucsc.edu/admin/exe/linux.x86_64/twoBitToFa\n",
        "!chmod a+x twoBitToFa"
      ],
      "execution_count": 16,
      "outputs": [
        {
          "output_type": "stream",
          "name": "stdout",
          "text": [
            "--2021-12-01 20:33:24--  http://hgdownload.cse.ucsc.edu/admin/exe/linux.x86_64/twoBitToFa\n",
            "Resolving hgdownload.cse.ucsc.edu (hgdownload.cse.ucsc.edu)... 128.114.119.163\n",
            "Connecting to hgdownload.cse.ucsc.edu (hgdownload.cse.ucsc.edu)|128.114.119.163|:80... connected.\n",
            "HTTP request sent, awaiting response... 200 OK\n",
            "Length: 9367560 (8.9M)\n",
            "Saving to: ‘twoBitToFa’\n",
            "\n",
            "twoBitToFa          100%[===================>]   8.93M  12.7MB/s    in 0.7s    \n",
            "\n",
            "2021-12-01 20:33:25 (12.7 MB/s) - ‘twoBitToFa’ saved [9367560/9367560]\n",
            "\n"
          ]
        }
      ]
    },
    {
      "cell_type": "code",
      "metadata": {
        "id": "NCDZN1mPBHq_"
      },
      "source": [
        "for i in range(pos.shape[0]):\n",
        "    name = pos.iloc[i, :]['chrom']\n",
        "    start = pos.iloc[i, :]['chromStart']\n",
        "    end = pos.iloc[i, :]['chromEnd']\n",
        "    file_name = str(i) + 'z.fa'\n",
        "    !./twoBitToFa http://hgdownload.cse.ucsc.edu/gbdb/hg19/hg19.2bit $file_name -seq=$name -start=$start -end=$end"
      ],
      "execution_count": 17,
      "outputs": []
    },
    {
      "cell_type": "code",
      "metadata": {
        "id": "93MeGuVmFGqo"
      },
      "source": [
        "!cat *z.fa > pos.fa"
      ],
      "execution_count": 18,
      "outputs": []
    },
    {
      "cell_type": "code",
      "metadata": {
        "id": "hh28qzwOv7hv"
      },
      "source": [
        "genome = pd.read_csv('Genome.bed', sep='\\t', header=None)"
      ],
      "execution_count": 19,
      "outputs": []
    },
    {
      "cell_type": "code",
      "metadata": {
        "colab": {
          "base_uri": "https://localhost:8080/",
          "height": 443
        },
        "id": "rqQ1i-ct4Zws",
        "outputId": "b7fe2430-6ec5-493a-f4b8-0efef5f2835e"
      },
      "source": [
        "genome"
      ],
      "execution_count": 20,
      "outputs": [
        {
          "output_type": "execute_result",
          "data": {
            "text/html": [
              "<div>\n",
              "<style scoped>\n",
              "    .dataframe tbody tr th:only-of-type {\n",
              "        vertical-align: middle;\n",
              "    }\n",
              "\n",
              "    .dataframe tbody tr th {\n",
              "        vertical-align: top;\n",
              "    }\n",
              "\n",
              "    .dataframe thead th {\n",
              "        text-align: right;\n",
              "    }\n",
              "</style>\n",
              "<table border=\"1\" class=\"dataframe\">\n",
              "  <thead>\n",
              "    <tr style=\"text-align: right;\">\n",
              "      <th></th>\n",
              "      <th>0</th>\n",
              "      <th>1</th>\n",
              "      <th>2</th>\n",
              "      <th>3</th>\n",
              "      <th>4</th>\n",
              "      <th>5</th>\n",
              "      <th>6</th>\n",
              "      <th>7</th>\n",
              "      <th>8</th>\n",
              "      <th>9</th>\n",
              "      <th>10</th>\n",
              "      <th>11</th>\n",
              "    </tr>\n",
              "  </thead>\n",
              "  <tbody>\n",
              "    <tr>\n",
              "      <th>0</th>\n",
              "      <td>chr1</td>\n",
              "      <td>66999043</td>\n",
              "      <td>67216822</td>\n",
              "      <td>NM_001376549.1</td>\n",
              "      <td>0</td>\n",
              "      <td>+</td>\n",
              "      <td>67000041</td>\n",
              "      <td>67208778</td>\n",
              "      <td>0</td>\n",
              "      <td>23</td>\n",
              "      <td>47,123,64,25,72,57,55,176,25,52,86,93,75,128,1...</td>\n",
              "      <td>0,885,92486,99709,102583,106416,109449,110183,...</td>\n",
              "    </tr>\n",
              "    <tr>\n",
              "      <th>1</th>\n",
              "      <td>chr1</td>\n",
              "      <td>66999043</td>\n",
              "      <td>67216822</td>\n",
              "      <td>NM_001376535.1</td>\n",
              "      <td>0</td>\n",
              "      <td>+</td>\n",
              "      <td>67000041</td>\n",
              "      <td>67208778</td>\n",
              "      <td>0</td>\n",
              "      <td>26</td>\n",
              "      <td>47,123,64,25,72,57,55,176,12,12,25,52,86,93,75...</td>\n",
              "      <td>0,885,92486,99709,102583,106416,109449,110183,...</td>\n",
              "    </tr>\n",
              "    <tr>\n",
              "      <th>2</th>\n",
              "      <td>chr1</td>\n",
              "      <td>66999275</td>\n",
              "      <td>67216822</td>\n",
              "      <td>NM_001376554.1</td>\n",
              "      <td>0</td>\n",
              "      <td>+</td>\n",
              "      <td>67000041</td>\n",
              "      <td>67208778</td>\n",
              "      <td>0</td>\n",
              "      <td>21</td>\n",
              "      <td>80,123,64,25,57,55,176,25,52,86,93,75,128,127,...</td>\n",
              "      <td>0,653,92254,99477,106184,109217,109951,137402,...</td>\n",
              "    </tr>\n",
              "    <tr>\n",
              "      <th>3</th>\n",
              "      <td>chr1</td>\n",
              "      <td>66999275</td>\n",
              "      <td>67216822</td>\n",
              "      <td>NM_001376551.1</td>\n",
              "      <td>0</td>\n",
              "      <td>+</td>\n",
              "      <td>67000041</td>\n",
              "      <td>67208778</td>\n",
              "      <td>0</td>\n",
              "      <td>22</td>\n",
              "      <td>80,123,64,25,57,55,176,25,52,86,93,75,128,127,...</td>\n",
              "      <td>0,653,92254,99477,106184,109217,109951,137402,...</td>\n",
              "    </tr>\n",
              "    <tr>\n",
              "      <th>4</th>\n",
              "      <td>chr1</td>\n",
              "      <td>66999275</td>\n",
              "      <td>67216822</td>\n",
              "      <td>NM_001308203.2</td>\n",
              "      <td>0</td>\n",
              "      <td>+</td>\n",
              "      <td>67000041</td>\n",
              "      <td>67208778</td>\n",
              "      <td>0</td>\n",
              "      <td>22</td>\n",
              "      <td>80,123,64,25,57,55,176,25,52,86,93,75,128,127,...</td>\n",
              "      <td>0,653,92254,99477,106184,109217,109951,137402,...</td>\n",
              "    </tr>\n",
              "    <tr>\n",
              "      <th>...</th>\n",
              "      <td>...</td>\n",
              "      <td>...</td>\n",
              "      <td>...</td>\n",
              "      <td>...</td>\n",
              "      <td>...</td>\n",
              "      <td>...</td>\n",
              "      <td>...</td>\n",
              "      <td>...</td>\n",
              "      <td>...</td>\n",
              "      <td>...</td>\n",
              "      <td>...</td>\n",
              "      <td>...</td>\n",
              "    </tr>\n",
              "    <tr>\n",
              "      <th>87140</th>\n",
              "      <td>chr7_gl000195_random</td>\n",
              "      <td>42937</td>\n",
              "      <td>86735</td>\n",
              "      <td>NM_001242480.3</td>\n",
              "      <td>0</td>\n",
              "      <td>-</td>\n",
              "      <td>44723</td>\n",
              "      <td>49117</td>\n",
              "      <td>0</td>\n",
              "      <td>4</td>\n",
              "      <td>1986,165,60,218,</td>\n",
              "      <td>0,6017,31183,43580,</td>\n",
              "    </tr>\n",
              "    <tr>\n",
              "      <th>87141</th>\n",
              "      <td>chr7_gl000195_random</td>\n",
              "      <td>42937</td>\n",
              "      <td>86735</td>\n",
              "      <td>NM_001347680.2</td>\n",
              "      <td>0</td>\n",
              "      <td>-</td>\n",
              "      <td>46775</td>\n",
              "      <td>49117</td>\n",
              "      <td>0</td>\n",
              "      <td>3</td>\n",
              "      <td>3864,165,218,</td>\n",
              "      <td>0,6017,43580,</td>\n",
              "    </tr>\n",
              "    <tr>\n",
              "      <th>87142</th>\n",
              "      <td>chr7_gl000195_random</td>\n",
              "      <td>42937</td>\n",
              "      <td>86735</td>\n",
              "      <td>NM_001347681.2</td>\n",
              "      <td>0</td>\n",
              "      <td>-</td>\n",
              "      <td>44723</td>\n",
              "      <td>49117</td>\n",
              "      <td>0</td>\n",
              "      <td>3</td>\n",
              "      <td>1986,165,218,</td>\n",
              "      <td>0,6017,43580,</td>\n",
              "    </tr>\n",
              "    <tr>\n",
              "      <th>87143</th>\n",
              "      <td>chr7_gl000195_random</td>\n",
              "      <td>42937</td>\n",
              "      <td>86735</td>\n",
              "      <td>NR_144628.2</td>\n",
              "      <td>0</td>\n",
              "      <td>-</td>\n",
              "      <td>86735</td>\n",
              "      <td>86735</td>\n",
              "      <td>0</td>\n",
              "      <td>2</td>\n",
              "      <td>1986,218,</td>\n",
              "      <td>0,43580,</td>\n",
              "    </tr>\n",
              "    <tr>\n",
              "      <th>87144</th>\n",
              "      <td>chr17_gl000205_random</td>\n",
              "      <td>116622</td>\n",
              "      <td>119732</td>\n",
              "      <td>NR_003682.1</td>\n",
              "      <td>0</td>\n",
              "      <td>+</td>\n",
              "      <td>119732</td>\n",
              "      <td>119732</td>\n",
              "      <td>0</td>\n",
              "      <td>1</td>\n",
              "      <td>3110,</td>\n",
              "      <td>0,</td>\n",
              "    </tr>\n",
              "  </tbody>\n",
              "</table>\n",
              "<p>87145 rows × 12 columns</p>\n",
              "</div>"
            ],
            "text/plain": [
              "                          0   ...                                                 11\n",
              "0                       chr1  ...  0,885,92486,99709,102583,106416,109449,110183,...\n",
              "1                       chr1  ...  0,885,92486,99709,102583,106416,109449,110183,...\n",
              "2                       chr1  ...  0,653,92254,99477,106184,109217,109951,137402,...\n",
              "3                       chr1  ...  0,653,92254,99477,106184,109217,109951,137402,...\n",
              "4                       chr1  ...  0,653,92254,99477,106184,109217,109951,137402,...\n",
              "...                      ...  ...                                                ...\n",
              "87140   chr7_gl000195_random  ...                                0,6017,31183,43580,\n",
              "87141   chr7_gl000195_random  ...                                      0,6017,43580,\n",
              "87142   chr7_gl000195_random  ...                                      0,6017,43580,\n",
              "87143   chr7_gl000195_random  ...                                           0,43580,\n",
              "87144  chr17_gl000205_random  ...                                                 0,\n",
              "\n",
              "[87145 rows x 12 columns]"
            ]
          },
          "metadata": {},
          "execution_count": 20
        }
      ]
    },
    {
      "cell_type": "code",
      "metadata": {
        "colab": {
          "base_uri": "https://localhost:8080/"
        },
        "id": "TQBDBLm44VmZ",
        "outputId": "b7fdbb95-9320-4386-be29-ba0d0c9e10c5"
      },
      "source": [
        "! apt-get install bedtools"
      ],
      "execution_count": 21,
      "outputs": [
        {
          "output_type": "stream",
          "name": "stdout",
          "text": [
            "Reading package lists... Done\n",
            "Building dependency tree       \n",
            "Reading state information... Done\n",
            "The following NEW packages will be installed:\n",
            "  bedtools\n",
            "0 upgraded, 1 newly installed, 0 to remove and 37 not upgraded.\n",
            "Need to get 577 kB of archives.\n",
            "After this operation, 2,040 kB of additional disk space will be used.\n",
            "Get:1 http://archive.ubuntu.com/ubuntu bionic/universe amd64 bedtools amd64 2.26.0+dfsg-5 [577 kB]\n",
            "Fetched 577 kB in 1s (826 kB/s)\n",
            "Selecting previously unselected package bedtools.\n",
            "(Reading database ... 155222 files and directories currently installed.)\n",
            "Preparing to unpack .../bedtools_2.26.0+dfsg-5_amd64.deb ...\n",
            "Unpacking bedtools (2.26.0+dfsg-5) ...\n",
            "Setting up bedtools (2.26.0+dfsg-5) ...\n"
          ]
        }
      ]
    },
    {
      "cell_type": "markdown",
      "metadata": {
        "id": "NTY0VN9k5cIg"
      },
      "source": [
        "Скачаем вторичную структуру ДНК и гистоновую метку:"
      ]
    },
    {
      "cell_type": "code",
      "metadata": {
        "colab": {
          "base_uri": "https://localhost:8080/"
        },
        "id": "8dLnJpU05aQm",
        "outputId": "511d5b6d-c9dd-4756-f738-4a74defc92a5"
      },
      "source": [
        "!wget https://github.com/netwasted/hse21_H2AFZ_ZDNA_human/raw/main/data/DeepZ.bed"
      ],
      "execution_count": 22,
      "outputs": [
        {
          "output_type": "stream",
          "name": "stdout",
          "text": [
            "--2021-12-01 20:35:42--  https://github.com/netwasted/hse21_H2AFZ_ZDNA_human/raw/main/data/DeepZ.bed\n",
            "Resolving github.com (github.com)... 140.82.114.3\n",
            "Connecting to github.com (github.com)|140.82.114.3|:443... connected.\n",
            "HTTP request sent, awaiting response... 302 Found\n",
            "Location: https://raw.githubusercontent.com/netwasted/hse21_H2AFZ_ZDNA_human/main/data/DeepZ.bed [following]\n",
            "--2021-12-01 20:35:42--  https://raw.githubusercontent.com/netwasted/hse21_H2AFZ_ZDNA_human/main/data/DeepZ.bed\n",
            "Resolving raw.githubusercontent.com (raw.githubusercontent.com)... 185.199.108.133, 185.199.109.133, 185.199.110.133, ...\n",
            "Connecting to raw.githubusercontent.com (raw.githubusercontent.com)|185.199.108.133|:443... connected.\n",
            "HTTP request sent, awaiting response... 200 OK\n",
            "Length: 461744 (451K) [text/plain]\n",
            "Saving to: ‘DeepZ.bed’\n",
            "\n",
            "DeepZ.bed           100%[===================>] 450.92K  --.-KB/s    in 0.04s   \n",
            "\n",
            "2021-12-01 20:35:42 (11.9 MB/s) - ‘DeepZ.bed’ saved [461744/461744]\n",
            "\n"
          ]
        }
      ]
    },
    {
      "cell_type": "code",
      "metadata": {
        "colab": {
          "base_uri": "https://localhost:8080/"
        },
        "id": "jEOhHUsx52h7",
        "outputId": "53b5c014-0a8b-43a9-a205-17d7eabaa770"
      },
      "source": [
        "!wget https://github.com/netwasted/hse21_H2AFZ_ZDNA_human/raw/main/data/H2AFZ_brain.merge.hg19.bed"
      ],
      "execution_count": 23,
      "outputs": [
        {
          "output_type": "stream",
          "name": "stdout",
          "text": [
            "--2021-12-01 20:35:43--  https://github.com/netwasted/hse21_H2AFZ_ZDNA_human/raw/main/data/H2AFZ_brain.merge.hg19.bed\n",
            "Resolving github.com (github.com)... 140.82.113.4\n",
            "Connecting to github.com (github.com)|140.82.113.4|:443... connected.\n",
            "HTTP request sent, awaiting response... 302 Found\n",
            "Location: https://raw.githubusercontent.com/netwasted/hse21_H2AFZ_ZDNA_human/main/data/H2AFZ_brain.merge.hg19.bed [following]\n",
            "--2021-12-01 20:35:43--  https://raw.githubusercontent.com/netwasted/hse21_H2AFZ_ZDNA_human/main/data/H2AFZ_brain.merge.hg19.bed\n",
            "Resolving raw.githubusercontent.com (raw.githubusercontent.com)... 185.199.108.133, 185.199.109.133, 185.199.110.133, ...\n",
            "Connecting to raw.githubusercontent.com (raw.githubusercontent.com)|185.199.108.133|:443... connected.\n",
            "HTTP request sent, awaiting response... 200 OK\n",
            "Length: 4717002 (4.5M) [text/plain]\n",
            "Saving to: ‘H2AFZ_brain.merge.hg19.bed’\n",
            "\n",
            "H2AFZ_brain.merge.h 100%[===================>]   4.50M  --.-KB/s    in 0.08s   \n",
            "\n",
            "2021-12-01 20:35:44 (57.6 MB/s) - ‘H2AFZ_brain.merge.hg19.bed’ saved [4717002/4717002]\n",
            "\n"
          ]
        }
      ]
    },
    {
      "cell_type": "code",
      "metadata": {
        "id": "H98ycpfa4Rih"
      },
      "source": [
        "!bedtools subtract -a Genome.bed -b DeepZ.bed > gg.bed"
      ],
      "execution_count": 24,
      "outputs": []
    },
    {
      "cell_type": "code",
      "metadata": {
        "id": "-T47WsdS5Gnc"
      },
      "source": [
        "!bedtools subtract -a gg.bed -b H2AFZ_brain.merge.hg19.bed > neg.bed"
      ],
      "execution_count": 25,
      "outputs": []
    },
    {
      "cell_type": "code",
      "metadata": {
        "id": "_hmTfIhK6eYR"
      },
      "source": [
        "neg = pd.read_csv('neg.bed', sep='\\t', header=None)"
      ],
      "execution_count": 26,
      "outputs": []
    },
    {
      "cell_type": "code",
      "metadata": {
        "colab": {
          "base_uri": "https://localhost:8080/"
        },
        "id": "cTi7uHAN6qxs",
        "outputId": "20ee4d42-2d36-44e4-b35c-1a913d9de803"
      },
      "source": [
        "neg.shape"
      ],
      "execution_count": 27,
      "outputs": [
        {
          "output_type": "execute_result",
          "data": {
            "text/plain": [
              "(410842, 12)"
            ]
          },
          "metadata": {},
          "execution_count": 27
        }
      ]
    },
    {
      "cell_type": "code",
      "metadata": {
        "colab": {
          "base_uri": "https://localhost:8080/"
        },
        "id": "WgPJte5N6sWo",
        "outputId": "be455cad-6e43-4608-a35f-55f3d1ecb462"
      },
      "source": [
        "genome.shape"
      ],
      "execution_count": 28,
      "outputs": [
        {
          "output_type": "execute_result",
          "data": {
            "text/plain": [
              "(87145, 12)"
            ]
          },
          "metadata": {},
          "execution_count": 28
        }
      ]
    },
    {
      "cell_type": "code",
      "metadata": {
        "id": "XrcOr8fu7j5I"
      },
      "source": [
        "genome.drop([3, 4, 5, 6, 7, 8, 9, 10, 11], axis=1, inplace=True)\n",
        "header = ['chrom', 'chromStart', 'chromEnd']\n",
        "genome.columns = header[:len(genome.columns)]\n",
        "genome['len'] = genome['chromEnd'] - genome['chromStart']"
      ],
      "execution_count": 29,
      "outputs": []
    },
    {
      "cell_type": "code",
      "metadata": {
        "id": "WVz9dMkc65y4"
      },
      "source": [
        "#neg.drop([3, 4, 5, 6, 7, 8, 9, 10, 11], axis=1, inplace=True)\n",
        "header = ['chrom', 'chromStart', 'chromEnd', '3', '4', '5', '6', '7', '8', '9', '10', '11']\n",
        "neg.columns = header\n",
        "neg['len'] = neg['chromEnd'] - neg['chromStart']"
      ],
      "execution_count": 30,
      "outputs": []
    },
    {
      "cell_type": "code",
      "metadata": {
        "colab": {
          "base_uri": "https://localhost:8080/",
          "height": 465
        },
        "id": "WobnlNqz9HCS",
        "outputId": "0eb50c50-a426-4b57-d1ae-ea0308fb8af5"
      },
      "source": [
        "plt.rcParams['figure.figsize'] = 14, 7\n",
        "plt.rcParams['font.size'] = 12\n",
        "plt.hist(genome['chromEnd'] - genome['chromStart'], bins=100)\n",
        "plt.title('Распределение длин участков пересечения гистоновой метки и вторичной структуры ДНК', size=16)\n",
        "plt.xlabel('Длины участков')\n",
        "plt.ylabel('Число значений')\n",
        "plt.show()"
      ],
      "execution_count": 31,
      "outputs": [
        {
          "output_type": "display_data",
          "data": {
            "image/png": "[encoded data removed]",
            "text/plain": [
              "<Figure size 1008x504 with 1 Axes>"
            ]
          },
          "metadata": {
            "image/png": {
              "width": 856,
              "height": 448
            },
            "needs_background": "light"
          }
        }
      ]
    },
    {
      "cell_type": "code",
      "metadata": {
        "colab": {
          "base_uri": "https://localhost:8080/",
          "height": 465
        },
        "id": "d2IHDclq9IDf",
        "outputId": "4385b253-39bc-4990-e5cc-776fe246ff7c"
      },
      "source": [
        "plt.rcParams['figure.figsize'] = 14, 7\n",
        "plt.rcParams['font.size'] = 12\n",
        "plt.hist(neg['chromEnd'] - neg['chromStart'], bins=100)\n",
        "plt.title('Распределение длин участков пересечения гистоновой метки и вторичной структуры ДНК', size=16)\n",
        "plt.xlabel('Длины участков')\n",
        "plt.ylabel('Число значений')\n",
        "plt.show()"
      ],
      "execution_count": 32,
      "outputs": [
        {
          "output_type": "display_data",
          "data": {
            "image/png": "[encoded data removed]",
            "text/plain": [
              "<Figure size 1008x504 with 1 Axes>"
            ]
          },
          "metadata": {
            "image/png": {
              "width": 863,
              "height": 448
            },
            "needs_background": "light"
          }
        }
      ]
    },
    {
      "cell_type": "code",
      "metadata": {
        "id": "mblOyiOS9M9K"
      },
      "source": [
        "neg.drop(neg[neg['len'] != 14].index, inplace=True)"
      ],
      "execution_count": 33,
      "outputs": []
    },
    {
      "cell_type": "code",
      "metadata": {
        "colab": {
          "base_uri": "https://localhost:8080/",
          "height": 443
        },
        "id": "GAifJrdMK3LS",
        "outputId": "c7b74c59-b9be-4a26-a378-5f095f723f67"
      },
      "source": [
        "neg"
      ],
      "execution_count": 34,
      "outputs": [
        {
          "output_type": "execute_result",
          "data": {
            "text/html": [
              "<div>\n",
              "<style scoped>\n",
              "    .dataframe tbody tr th:only-of-type {\n",
              "        vertical-align: middle;\n",
              "    }\n",
              "\n",
              "    .dataframe tbody tr th {\n",
              "        vertical-align: top;\n",
              "    }\n",
              "\n",
              "    .dataframe thead th {\n",
              "        text-align: right;\n",
              "    }\n",
              "</style>\n",
              "<table border=\"1\" class=\"dataframe\">\n",
              "  <thead>\n",
              "    <tr style=\"text-align: right;\">\n",
              "      <th></th>\n",
              "      <th>chrom</th>\n",
              "      <th>chromStart</th>\n",
              "      <th>chromEnd</th>\n",
              "      <th>3</th>\n",
              "      <th>4</th>\n",
              "      <th>5</th>\n",
              "      <th>6</th>\n",
              "      <th>7</th>\n",
              "      <th>8</th>\n",
              "      <th>9</th>\n",
              "      <th>10</th>\n",
              "      <th>11</th>\n",
              "      <th>len</th>\n",
              "    </tr>\n",
              "  </thead>\n",
              "  <tbody>\n",
              "    <tr>\n",
              "      <th>4502</th>\n",
              "      <td>chr1</td>\n",
              "      <td>89149792</td>\n",
              "      <td>89149806</td>\n",
              "      <td>NR_110682.1</td>\n",
              "      <td>0</td>\n",
              "      <td>-</td>\n",
              "      <td>89150887</td>\n",
              "      <td>89150887</td>\n",
              "      <td>0</td>\n",
              "      <td>4</td>\n",
              "      <td>3147,145,209,41,</td>\n",
              "      <td>0,19391,32474,147651,</td>\n",
              "      <td>14</td>\n",
              "    </tr>\n",
              "    <tr>\n",
              "      <th>7559</th>\n",
              "      <td>chr1</td>\n",
              "      <td>3418692</td>\n",
              "      <td>3418706</td>\n",
              "      <td>NM_001409.4</td>\n",
              "      <td>0</td>\n",
              "      <td>-</td>\n",
              "      <td>3407091</td>\n",
              "      <td>3527832</td>\n",
              "      <td>0</td>\n",
              "      <td>37</td>\n",
              "      <td>2639,48,129,129,129,129,129,129,129,132,129,12...</td>\n",
              "      <td>0,2961,4688,5820,6045,6420,6662,7939,8704,9037...</td>\n",
              "      <td>14</td>\n",
              "    </tr>\n",
              "    <tr>\n",
              "      <th>12816</th>\n",
              "      <td>chr1</td>\n",
              "      <td>94883944</td>\n",
              "      <td>94883958</td>\n",
              "      <td>NM_001122674.2</td>\n",
              "      <td>0</td>\n",
              "      <td>+</td>\n",
              "      <td>94884034</td>\n",
              "      <td>94944106</td>\n",
              "      <td>0</td>\n",
              "      <td>9</td>\n",
              "      <td>200,37,99,89,70,98,124,57,200,</td>\n",
              "      <td>0,40218,46386,49530,55377,56754,57225,59870,60...</td>\n",
              "      <td>14</td>\n",
              "    </tr>\n",
              "    <tr>\n",
              "      <th>12818</th>\n",
              "      <td>chr1</td>\n",
              "      <td>94883944</td>\n",
              "      <td>94883958</td>\n",
              "      <td>NM_002858.4</td>\n",
              "      <td>0</td>\n",
              "      <td>+</td>\n",
              "      <td>94884034</td>\n",
              "      <td>94982685</td>\n",
              "      <td>0</td>\n",
              "      <td>23</td>\n",
              "      <td>200,37,99,89,70,98,124,57,143,70,70,98,92,92,7...</td>\n",
              "      <td>0,40218,46386,49530,55377,56754,57225,59870,62...</td>\n",
              "      <td>14</td>\n",
              "    </tr>\n",
              "    <tr>\n",
              "      <th>17836</th>\n",
              "      <td>chr1</td>\n",
              "      <td>223537288</td>\n",
              "      <td>223537302</td>\n",
              "      <td>NM_017982.4</td>\n",
              "      <td>0</td>\n",
              "      <td>-</td>\n",
              "      <td>223395533</td>\n",
              "      <td>223536767</td>\n",
              "      <td>0</td>\n",
              "      <td>9</td>\n",
              "      <td>1390,383,145,192,189,174,213,183,120,</td>\n",
              "      <td>0,2418,6763,8366,43799,47671,71608,142447,143226,</td>\n",
              "      <td>14</td>\n",
              "    </tr>\n",
              "    <tr>\n",
              "      <th>...</th>\n",
              "      <td>...</td>\n",
              "      <td>...</td>\n",
              "      <td>...</td>\n",
              "      <td>...</td>\n",
              "      <td>...</td>\n",
              "      <td>...</td>\n",
              "      <td>...</td>\n",
              "      <td>...</td>\n",
              "      <td>...</td>\n",
              "      <td>...</td>\n",
              "      <td>...</td>\n",
              "      <td>...</td>\n",
              "      <td>...</td>\n",
              "    </tr>\n",
              "    <tr>\n",
              "      <th>397463</th>\n",
              "      <td>chr22</td>\n",
              "      <td>31199125</td>\n",
              "      <td>31199139</td>\n",
              "      <td>NM_001282738.2</td>\n",
              "      <td>0</td>\n",
              "      <td>+</td>\n",
              "      <td>31090047</td>\n",
              "      <td>31302326</td>\n",
              "      <td>0</td>\n",
              "      <td>15</td>\n",
              "      <td>291,137,209,254,193,118,55,147,246,121,104,96,...</td>\n",
              "      <td>0,426,47379,176647,193644,194441,195398,195708...</td>\n",
              "      <td>14</td>\n",
              "    </tr>\n",
              "    <tr>\n",
              "      <th>397483</th>\n",
              "      <td>chr22</td>\n",
              "      <td>31199125</td>\n",
              "      <td>31199139</td>\n",
              "      <td>NM_001282739.2</td>\n",
              "      <td>0</td>\n",
              "      <td>+</td>\n",
              "      <td>31090896</td>\n",
              "      <td>31302326</td>\n",
              "      <td>0</td>\n",
              "      <td>14</td>\n",
              "      <td>680,209,254,193,118,55,147,246,121,104,96,185,...</td>\n",
              "      <td>0,46287,175555,192552,193349,194306,194616,195...</td>\n",
              "      <td>14</td>\n",
              "    </tr>\n",
              "    <tr>\n",
              "      <th>397503</th>\n",
              "      <td>chr22</td>\n",
              "      <td>31199125</td>\n",
              "      <td>31199139</td>\n",
              "      <td>NM_030758.4</td>\n",
              "      <td>0</td>\n",
              "      <td>+</td>\n",
              "      <td>31090896</td>\n",
              "      <td>31302326</td>\n",
              "      <td>0</td>\n",
              "      <td>14</td>\n",
              "      <td>680,209,254,193,118,58,147,246,121,104,96,185,...</td>\n",
              "      <td>0,46287,175555,192552,193349,194303,194616,195...</td>\n",
              "      <td>14</td>\n",
              "    </tr>\n",
              "    <tr>\n",
              "      <th>397515</th>\n",
              "      <td>chr22</td>\n",
              "      <td>31199125</td>\n",
              "      <td>31199139</td>\n",
              "      <td>NM_001282740.2</td>\n",
              "      <td>0</td>\n",
              "      <td>+</td>\n",
              "      <td>31266660</td>\n",
              "      <td>31302326</td>\n",
              "      <td>0</td>\n",
              "      <td>13</td>\n",
              "      <td>140,254,193,118,55,147,246,121,104,96,185,233,...</td>\n",
              "      <td>0,106176,123173,123970,124927,125237,126475,12...</td>\n",
              "      <td>14</td>\n",
              "    </tr>\n",
              "    <tr>\n",
              "      <th>399696</th>\n",
              "      <td>chr22</td>\n",
              "      <td>20459989</td>\n",
              "      <td>20460003</td>\n",
              "      <td>NM_015672.2</td>\n",
              "      <td>0</td>\n",
              "      <td>-</td>\n",
              "      <td>20456381</td>\n",
              "      <td>20461301</td>\n",
              "      <td>0</td>\n",
              "      <td>1</td>\n",
              "      <td>6105,</td>\n",
              "      <td>0,</td>\n",
              "      <td>14</td>\n",
              "    </tr>\n",
              "  </tbody>\n",
              "</table>\n",
              "<p>434 rows × 13 columns</p>\n",
              "</div>"
            ],
            "text/plain": [
              "        chrom  ...  len\n",
              "4502     chr1  ...   14\n",
              "7559     chr1  ...   14\n",
              "12816    chr1  ...   14\n",
              "12818    chr1  ...   14\n",
              "17836    chr1  ...   14\n",
              "...       ...  ...  ...\n",
              "397463  chr22  ...   14\n",
              "397483  chr22  ...   14\n",
              "397503  chr22  ...   14\n",
              "397515  chr22  ...   14\n",
              "399696  chr22  ...   14\n",
              "\n",
              "[434 rows x 13 columns]"
            ]
          },
          "metadata": {},
          "execution_count": 34
        }
      ]
    },
    {
      "cell_type": "code",
      "metadata": {
        "id": "0Lp9siIbPjNi"
      },
      "source": [
        "# pos.drop(['len'], axis=1, inplace=True)"
      ],
      "execution_count": 35,
      "outputs": []
    },
    {
      "cell_type": "code",
      "metadata": {
        "id": "OpTG_vbQKXnT"
      },
      "source": [
        "# pos.drop(['center'], axis=1, inplace=True)"
      ],
      "execution_count": 36,
      "outputs": []
    },
    {
      "cell_type": "code",
      "metadata": {
        "id": "M5NYeGx4caC8"
      },
      "source": [
        "neg.drop(['len'], axis=1, inplace=True)"
      ],
      "execution_count": 37,
      "outputs": []
    },
    {
      "cell_type": "code",
      "metadata": {
        "id": "nl4df60uoMj3"
      },
      "source": [
        ""
      ],
      "execution_count": 37,
      "outputs": []
    },
    {
      "cell_type": "code",
      "metadata": {
        "id": "pG9zNFS2mVL1"
      },
      "source": [
        "# neg = neg.sample(pos.shape[0]*5)"
      ],
      "execution_count": 38,
      "outputs": []
    },
    {
      "cell_type": "code",
      "metadata": {
        "id": "7pRV4RnPmSpQ"
      },
      "source": [
        "neg.to_csv('neg1.bed', index=None, sep=\"\\t\", header=None)"
      ],
      "execution_count": 39,
      "outputs": []
    },
    {
      "cell_type": "markdown",
      "metadata": {
        "id": "zDltOnv-KkE3"
      },
      "source": [
        "Переведем получившиеся bed файлы в формат fasta:"
      ]
    },
    {
      "cell_type": "code",
      "metadata": {
        "id": "P6lLAWjvK5Xe"
      },
      "source": [
        "!./twoBitToFa  http://hgdownload.cse.ucsc.edu/gbdb/hg19/hg19.2bit -bed=neg1.bed neg.fa"
      ],
      "execution_count": 40,
      "outputs": []
    },
    {
      "cell_type": "code",
      "metadata": {
        "id": "SabPlOwGLSph"
      },
      "source": [
        "# pos.to_csv('pos1.bed', index=None, sep=\"\\t\", header=None)"
      ],
      "execution_count": 41,
      "outputs": []
    },
    {
      "cell_type": "code",
      "metadata": {
        "id": "j-DFldiuaL2i"
      },
      "source": [
        "# !bedtools intersect -a Genome.bed -b pos1.bed -wa > pos.bed"
      ],
      "execution_count": 42,
      "outputs": []
    },
    {
      "cell_type": "code",
      "metadata": {
        "id": "mWve0fw8SHVJ"
      },
      "source": [
        "# !./twoBitToFa  http://hgdownload.cse.ucsc.edu/gbdb/hg19/hg19.2bit -bed=pos.bed pos.fa"
      ],
      "execution_count": 43,
      "outputs": []
    },
    {
      "cell_type": "markdown",
      "metadata": {
        "id": "eFnu9DeTjAhg"
      },
      "source": [
        "# Собственно нейросеть"
      ]
    },
    {
      "cell_type": "code",
      "metadata": {
        "id": "mcHvYzuIiQou"
      },
      "source": [
        "import numpy as np\n",
        "import tensorflow.compat.v1 as tf\n",
        "import time\n",
        "import math\n",
        "import sys"
      ],
      "execution_count": 44,
      "outputs": []
    },
    {
      "cell_type": "code",
      "metadata": {
        "id": "EMY9RGubiQw-",
        "colab": {
          "base_uri": "https://localhost:8080/"
        },
        "outputId": "c626ab07-9b91-4028-8d1d-79fae5a91cd9"
      },
      "source": [
        "__author__ = 'jasperz'\n",
        "# This code was created with\n",
        "# python 3.5\n",
        "# tensorflow 1.7\n",
        "# cuda 9.0\n",
        "# cudnn 7.0\n",
        "\n",
        "\n",
        "import os\n",
        "#os.environ['TF_CPP_MIN_LOG_LEVEL'] = '3'\n",
        "#os.environ['CUDA_VISIBLE_DEVICES'] = '1'\n",
        "\n",
        "import numpy as np\n",
        "import tensorflow.compat.v1 as tf\n",
        "import time\n",
        "import math\n",
        "import sys\n",
        "\n",
        "\n",
        "# An object of this class represents a neural network, which you can build, print, train, evaluate, save and load.\n",
        "# Below, the functions are discussed in detail.\n",
        "\n",
        "os.environ['TF_CPP_MIN_LOG_LEVEL'] = '3'\n",
        "os.environ['CUDA_VISIBLE_DEVICES'] = '0'\n",
        "class NetworkModel:\n",
        "    tf.disable_v2_behavior()\n",
        "    # The constructor for the NetworkModel class comes with one optional argument. If no filename is given in input,\n",
        "    # it just creates a new, empty neural network model from scratch. If a filename is given, it loads a model that was\n",
        "    # previously saved to that file using the saveModel(...) function. Note that loaded files can only be used for\n",
        "    # evaluation, and not for (re)training or adding extra layers.\n",
        "    def __init__(self, file_to_load = None):\n",
        "        tf.reset_default_graph()\n",
        "        self.all_layers = []\n",
        "\n",
        "        gpu_options = tf.GPUOptions(per_process_gpu_memory_fraction=0.1)\n",
        "        config = tf.ConfigProto(gpu_options=gpu_options)\n",
        "        config.gpu_options.allow_growth = True\n",
        "\n",
        "        self.sess = tf.Session(config=config)\n",
        "\n",
        "        if not file_to_load:\n",
        "            self.X_placeholder = tf.placeholder(tf.float32, [None, 50, 4],name='X_placeholder')\n",
        "            self.Y_placeholder = tf.placeholder(tf.float32, [None, 2],name='Y_placeholder')\n",
        "            self.loaded = False\n",
        "            self.nn = None\n",
        "        else:\n",
        "            self.loaded = True\n",
        "            self._loadNetworkParameters('models/'+file_to_load)\n",
        "            self.X_placeholder = tf.get_default_graph().get_tensor_by_name('X_placeholder:0')\n",
        "            self.Y_placeholder = tf.get_default_graph().get_tensor_by_name('Y_placeholder:0')\n",
        "            self.predictions_softmax = tf.get_default_graph().get_tensor_by_name('softmax_prediction:0')\n",
        "\n",
        "    # This function adds an input layer to the network. This is the first layer that should be added to every network\n",
        "    # model.\n",
        "    def addInputLayer(self):\n",
        "        assert len(self.all_layers) == 0, 'The input layer should be the first layer of the network, and can only be added once.'\n",
        "        self.all_layers.append(('Input layer','',self.X_placeholder))\n",
        "\n",
        "    # This function adds a convolutional layer to the network, with the specified arguments. You should always specify\n",
        "    # the number of filters (with an upper limit of 500), and the filter width (with an upper limit of 64). There is\n",
        "    # also an optional argument which lets you choose whether or not zero padding is added (as explained in the lecture\n",
        "    # slides). After each convolutional layer, a rectified linear unit (ReLU) is automatically added for\n",
        "    # non-linearization purposes.\n",
        "    def addConvLayer(self, num_of_filters, filter_width, zero_padding = True):\n",
        "        assert len(self.all_layers) > 0 and self.all_layers[0][0].startswith('Input layer')\n",
        "        assert zero_padding in (True,False), 'zero_padding should be True or False (boolean)'\n",
        "        assert 0 < num_of_filters < 500, 'The number of filters specified should be a positive number, smaller than 500'\n",
        "        assert 0 < filter_width < 64, 'The width of your filters should be a positive number, smaller than 64'\n",
        "        assert len(self.all_layers)+1 < 21, 'The total amount of layers should be at most 20'\n",
        "        assert 'Fully-connected layer' not in [typ for typ,_,_ in self.all_layers], 'You cannot add a convolutional layer after a fully-connected layer'\n",
        "        assert 'Softmax (output) layer' not in [typ for typ,_,_ in self.all_layers], 'You cannot add a convolutional layer after a softmax layer'\n",
        "        prev_width = self.all_layers[-1][-1].shape[1]\n",
        "        assert zero_padding or prev_width >= filter_width, 'You cannot add a (non-zeropadded) convolution of width {} when the previous layer has an output width of {}'.format(filter_width,prev_width)\n",
        "        self.all_layers.append(('Convolutional layer',\n",
        "                                '{} filters, width {}, {}zero padding, with ReLU'.format(num_of_filters,\n",
        "                                                                                         filter_width,\n",
        "                                                                                         'no ' if not zero_padding else ''),\n",
        "                                tf.layers.conv1d(self.all_layers[-1][-1],\n",
        "                                                 filters=num_of_filters,\n",
        "                                                 kernel_size=filter_width,\n",
        "                                                 activation=tf.nn.relu,\n",
        "                                                 padding='same' if zero_padding else 'valid')))\n",
        "\n",
        "    # This function adds a max pooling layer to the network, with the specified pool size (with an upper limit of 50).\n",
        "    def addMaxPoolLayer(self, pool_size):\n",
        "        assert len(self.all_layers) > 0 and self.all_layers[0][0].startswith('Input layer')\n",
        "        assert 'Fully-connected layer' not in [typ for typ,_,_ in self.all_layers], 'You cannot add a pooling layer after a fully-connected layer'\n",
        "        assert 'Softmax (output) layer' not in [typ for typ,_,_ in self.all_layers], 'You cannot add a pooling layer after a softmax layer'\n",
        "        assert len(self.all_layers)+1 < 21, 'The total amount of layers should be at most 20'\n",
        "        assert 0 < pool_size < 50, 'The pool size should be lower than 50'\n",
        "        prev_width = self.all_layers[-1][-1].shape[1]\n",
        "        assert prev_width >= pool_size, 'You cannot add a pooling layer with pool size {} when the previous layer has an output width of {}'.format(pool_size,prev_width)\n",
        "        self.all_layers.append(('Max pooling layer',\n",
        "                                'pool size {}'.format(pool_size),\n",
        "                                tf.layers.max_pooling1d(self.all_layers[-1][-1],\n",
        "                                                        pool_size=pool_size,\n",
        "                                                        strides=pool_size)))\n",
        "    # This function adds a fully-connected layer to the network, with the specified number of neurons (with an upper\n",
        "    # limit of 1000). If it is the first fully-connected layer in the network, it will also add a flatten layer first,\n",
        "    # which reduces the dimensionality after the convolutional/pooling layers. For instance, if the output of the last\n",
        "    # pooling layer is (?, 20, 100), the flatten layer will change this to (?, 2000). It is also no longer possible to\n",
        "    # add convolutional or pooling layers after this. After each fully-connected layer, a rectified linear unit (ReLU)\n",
        "    # is automatically added for non-linearization purposes.\n",
        "    def addFullyConnectedLayer(self,num_of_neurons):\n",
        "        assert len(self.all_layers) > 0 and self.all_layers[0][0].startswith('Input layer')\n",
        "        assert 'Softmax (output) layer' not in [typ for typ,_,_ in self.all_layers], 'You cannot add a fully-connected layer after a softmax layer'\n",
        "        assert len(self.all_layers)+1 < 21, 'The total amount of layers should be at most 20'\n",
        "        assert 0 < num_of_neurons < 1000, 'The amount of neurons in this layer should be a positive number, lower than 2000'\n",
        "        if len(self.all_layers[-1][-1].shape) > 2:\n",
        "            self.all_layers.append(('Flatten layer',\n",
        "                                    '',\n",
        "                                   tf.layers.flatten(self.all_layers[-1][-1])))\n",
        "        self.all_layers.append(('Fully-connected layer',\n",
        "                                '{} neurons, with ReLU'.format(num_of_neurons),\n",
        "                                tf.layers.dense(self.all_layers[-1][-1],num_of_neurons)))\n",
        "\n",
        "    # This function adds an output layer to the network, which has two neurons: one for negative classification and one\n",
        "    # for positive classification. A softmax calculation is also done, so that the probabilities that are outputted by\n",
        "    # both neurons add up to 1. Once an output layer is added, no other layers can be added anymore.\n",
        "    def addOutputLayer(self):\n",
        "        assert len(self.all_layers) > 0 and self.all_layers[0][0].startswith('Input layer')\n",
        "        assert 'Softmax (output) layer' not in [typ for typ,_,_ in self.all_layers], 'You cannot add a softmax (output) layer after a softmax layer'\n",
        "        assert len(self.all_layers)+1 < 21, 'The total amount of layers should be at most 20'\n",
        "        if len(self.all_layers[-1][-1].shape) > 2:\n",
        "            self.all_layers.append(('Flatten layer',\n",
        "                                    '',\n",
        "                                    tf.contrib.layers.flatten(self.all_layers[-1][-1])))\n",
        "        # assert no output layer yet\n",
        "        # assert # of layers\n",
        "        self.all_layers.append(('Softmax (output) layer',\n",
        "                                '2 neurons',\n",
        "                                tf.layers.dense(self.all_layers[-1][-1], 2,name='logits')))\n",
        "    # You can use this function for printing out an overview of the layers that you have added to the network. It can\n",
        "    # be not only be used for a completed network, but also intermediately, for a network that is still being built.\n",
        "    # The output is printed out, and will consist of three columns: the type of layer, the hyperparameters (such as the\n",
        "    # number of neurons) and the output size after this layer. This output size will be shown in a format (?, 200, 100).\n",
        "    # The question mark indicates the amount of input samples (which is not fixed), so in building your network you can\n",
        "    # ignore this.\n",
        "    def printDetails(self):\n",
        "        print('####################################')\n",
        "        print('Network information:')\n",
        "        # count all parameters:\n",
        "        total_parameters = 0\n",
        "        # iterating over all variables\n",
        "        for variable in tf.trainable_variables():\n",
        "            local_parameters = 1\n",
        "            shape = variable.get_shape()  # getting shape of a variable\n",
        "            for i in shape:\n",
        "                local_parameters *= i.value  # mutiplying dimension values\n",
        "            total_parameters += local_parameters\n",
        "        print('This network has {} trainable parameters.'.format(total_parameters))\n",
        "\n",
        "        for i,(name,info,l) in enumerate(self.all_layers):\n",
        "            try:\n",
        "                print('{: >2d}. {:23} {:50} -> Output size: {}'.format(i, name, info, l.shape))\n",
        "            except AttributeError:\n",
        "                pass\n",
        "        print('')\n",
        "        print('####################################')\n",
        "\n",
        "\n",
        "    # To train the network, you will first need to read in the datasets, and convert the sequences to the right format.\n",
        "    # More in this format will follow in the assignments. After supplying the training and validation sets, you need to\n",
        "    # specify for how many epochs you want to train (maximum 100). The training and validation costes and accuracies\n",
        "    # will be shown on the screen.\n",
        "    def train(self, trainX, trainY, validX, validY, n_epochs):\n",
        "        print('####################################')\n",
        "        assert 'Input layer' in [typ for typ,_,_ in self.all_layers], 'You cannot train a model without an input layer'\n",
        "        assert 'Softmax (output) layer' in [typ for typ,_,_ in self.all_layers], 'You cannot train a model without an output layer'\n",
        "        assert self.loaded == False, 'You can not (re)train a model loaded from a file.'\n",
        "        assert 1 < n_epochs < 100, 'The number of epochs should be greater than 1 and lower than 100'\n",
        "        assert all(type(l) == list for l in (trainX, trainY, validX, validY)), 'trainX, trainY, validX and validY should all be lists'\n",
        "        assert all(len(l) > 0 for l in (trainX, trainY, validX, validY)), 'trainX, trainY, validX and validY should not be empty'\n",
        "\n",
        "        assert len(trainX) == len(trainY), 'trainX and trainY should have the same amount of samples'\n",
        "        assert len(trainX[0]) == 50 and len(trainX[0][0]) == 4 and type(trainX[0][0][0]) == int, 'trainX should have size (_, 200, 4) and should contain integers'\n",
        "        assert type(trainY[0]) == int, 'trainY should have length n (for n sequences) and should contain integers'\n",
        "\n",
        "        assert len(validX) == len(validY), 'validX and validY should have the same amount of samples'\n",
        "        assert len(validX[0]) == 50 and len(validX[0][0]) == 4 and type(validX[0][0][0]) == int, 'validX should have size (_, 200, 4) and should contain integers'\n",
        "        assert type(validY[0]) == int, 'validY should have length n (for n sequences) and should contain integers'\n",
        "        # assert input and output layer\n",
        "        self._prepare_training()\n",
        "\n",
        "        self.sess.run(tf.global_variables_initializer())\n",
        "        self.sess.run(tf.local_variables_initializer())\n",
        "        train_dataset = _Dataset(trainX, trainY)\n",
        "        valid_dataset = _Dataset(validX, validY)\n",
        "        self._printOutputClasses(train_dataset,'training')\n",
        "        self._printOutputClasses(valid_dataset,'validation')\n",
        "\n",
        "        best_valid_score = 999999\n",
        "        print()\n",
        "        print(' {:^5} | {:^14} | {:^14} | {:^11} | {:^11} | {:^8} '.format('epoch','train cost','valid cost','train acc','valid acc','time'))\n",
        "        print('-{:-^6}+{:-^16}+{:-^16}+{:-^13}+{:-^13}+{:-^9}-'.format('','','','','',''))\n",
        "\n",
        "        tr_cost, tr_acc = self._evaluateSet(train_dataset)\n",
        "        va_cost, va_acc = self._evaluateSet(valid_dataset)\n",
        "        print(' {:5d} |   {:2.8f}   |   {:2.8f}   |  {:1.7f}  | {:1.7f}  | {:4.2f}s '.format(0,tr_cost,tr_acc,va_cost,va_acc,0))\n",
        "\n",
        "        for epoch in range(1,n_epochs+1):\n",
        "            epoch_start_time = time.time()\n",
        "            epoch_finished = False\n",
        "            while not epoch_finished:\n",
        "                batch_x, batch_y, epoch_finished = train_dataset.next_batch(256)\n",
        "                self.sess.run(self.train_op, feed_dict={self.X_placeholder: batch_x, self.Y_placeholder: batch_y})\n",
        "            tr_cost, tr_acc = self._evaluateSet(train_dataset)\n",
        "            va_cost, va_acc = self._evaluateSet(valid_dataset)\n",
        "\n",
        "            if va_cost < best_valid_score:\n",
        "                best_valid_score = va_cost\n",
        "                message = '-> model selected'\n",
        "                self._storeNetworkParameters('models/tmp')\n",
        "            else:\n",
        "                message = ''\n",
        "            print(' {:5d} |   {:2.8f}   |   {:2.8f}   |  {:1.7f}  | {:1.7f}  | {:4.2f}s {}'.format(epoch,tr_cost,va_cost,tr_acc,va_acc,time.time()-epoch_start_time,message))\n",
        "\n",
        "        self._loadNetworkParameters('models/tmp')\n",
        "        print('Finished training')\n",
        "        print('####################################')\n",
        "\n",
        "    # This is the function you will use to generate predictions for a certain dataset. In input, you give a list of\n",
        "    # sequences, in the one-hot encoding format (again, see the assignments). It will output a list of probabilities\n",
        "    # as calculated by the network. The list is a two-dimensional list of size (n, 2), with n being the number of\n",
        "    # sequences in testX. This means that the list will be a list will contain n lists of size 2, each containing the\n",
        "    # negative and positive probability for the prediction.\n",
        "    def generatePredictions(self, testX):\n",
        "        assert len(testX[0]) == 50 and len(testX[0][0]) == 4 and type(testX[0][0][0]) == int, 'testX should have size (_, 200, 4) and should contain integers'\n",
        "        assert self.loaded or 'Input layer' in [typ for typ,_,_ in self.all_layers], 'You cannot test a model without an input layer'\n",
        "        assert self.loaded or 'Softmax (output) layer' in [typ for typ,_,_ in self.all_layers], 'You cannot test a model without an output layer'\n",
        "        # assert input and output layer\n",
        "        all_preds = []\n",
        "        for i in range(math.ceil(len(testX)/256)):\n",
        "            batch_x = np.asarray(testX[i*256:(i+1)*256])\n",
        "            preds = self.sess.run(self.predictions_softmax,feed_dict={self.X_placeholder:batch_x})\n",
        "            for i in range(len(preds)):\n",
        "                all_preds.append((preds[i][0],preds[i][1]))\n",
        "        return all_preds\n",
        "\n",
        "    # At any time, you can save your current model (with its layers and trained parameters) to a file. However, it\n",
        "    # really only makes sense to do this after training. To load this model again, create a new NetworkModel object,\n",
        "    # and specify the same filename in the file_to_load parameter. Note: after loading a model, it cannot be\n",
        "    # (re)trained.\n",
        "    def saveModel(self, file_to_save_to):\n",
        "        assert 'Input layer' in [typ for typ,_,_ in self.all_layers], 'You cannot save a model without an input layer'\n",
        "        assert 'Softmax (output) layer' in [typ for typ,_,_ in self.all_layers], 'You cannot save a model without an output layer'\n",
        "        # assert input and output layer\n",
        "        assert not self.loaded, 'You cannot save a loaded model again.'\n",
        "        self._storeNetworkParameters('models/'+file_to_save_to)\n",
        "\n",
        "    def _prepare_training(self):\n",
        "        # assert all layers -1 == output layer\n",
        "        gs = tf.train.get_or_create_global_step()\n",
        "        self.predictions_softmax = tf.nn.softmax(self.all_layers[-1][-1],name='softmax_prediction')\n",
        "\n",
        "        self.cost_f = tf.losses.softmax_cross_entropy(onehot_labels=self.Y_placeholder, logits=self.all_layers[-1][-1])\n",
        "        self.optimizer = tf.train.AdamOptimizer(learning_rate=0.001)\n",
        "        self.train_op = self.optimizer.minimize(loss=self.cost_f,global_step=gs)\n",
        "\n",
        "        self.acc_f, self.acc_op = tf.metrics.accuracy(labels=tf.argmax(self.Y_placeholder, axis=1),predictions=tf.argmax(self.predictions_softmax, axis=1),name='metric_acc')\n",
        "        self.metric_var_initializer = tf.variables_initializer(var_list=tf.get_collection(tf.GraphKeys.LOCAL_VARIABLES, scope='metric'))\n",
        "\n",
        "    def _evaluateSet(self, dataset):\n",
        "        self.sess.run(self.metric_var_initializer)\n",
        "        costs = []\n",
        "        batches_done = False\n",
        "        while not batches_done:\n",
        "            batch_x, batch_y, epoch_finished = dataset.next_batch(256)\n",
        "\n",
        "            cost_batch = self.sess.run(self.cost_f, feed_dict={self.X_placeholder: batch_x,self.Y_placeholder: batch_y})\n",
        "            _ = self.sess.run([self.acc_op], feed_dict={self.X_placeholder: batch_x,self.Y_placeholder: batch_y})\n",
        "            costs.extend([cost_batch] * len(batch_y))\n",
        "\n",
        "            if epoch_finished:\n",
        "                batches_done = True\n",
        "\n",
        "        accuracy = self.sess.run([self.acc_f])[0]\n",
        "        return np.average(costs),accuracy\n",
        "\n",
        "    def _printOutputClasses(self, dataset, label):\n",
        "        print()\n",
        "        counts = dataset.getClassCounts()\n",
        "        print('Number of {} examples: {}'.format(label,int(np.sum(counts))))\n",
        "        if len(counts) > 1:\n",
        "            print('Distribution of the {} set:'.format(label))\n",
        "            for i in range(min(10,len(counts))):\n",
        "                print('  # elements of class {} = {}'.format(i,int(counts[i])))\n",
        "\n",
        "    def _storeNetworkParameters(self, saveToDir):\n",
        "        try:\n",
        "            saver = tf.train.Saver()\n",
        "            if not os.path.exists(saveToDir):\n",
        "                os.makedirs(saveToDir)\n",
        "            saver.save(self.sess,saveToDir+'/'+saveToDir[saveToDir.rfind('/')+1:])\n",
        "        except Exception:\n",
        "            print('SOMETHING WENT WRONG WITH STORING SHIT JASPER!! ~~~~~~~~~~~~~~~~~~~~~~~~~~~~~~~~~~~~~~~~~')\n",
        "            print(sys.exc_info())\n",
        "            print('~~~~~~~~~~~~~~~~~~~~~~~~~~~~~~~~~~~~~~~~~~~~~~~~~~~~~~~~~~~~~~~~~~~~~~~~~~~~~~~~~~~~~~~~~')\n",
        "\n",
        "    def _loadNetworkParameters(self, saveToDir):\n",
        "        filename = saveToDir+'/'+saveToDir[saveToDir.rfind('/')+1:]\n",
        "        if self.loaded:\n",
        "            saver = tf.train.import_meta_graph(filename+'.meta')\n",
        "        else:\n",
        "            saver = tf.train.Saver()\n",
        "        saver.restore(self.sess, tf.train.latest_checkpoint(saveToDir))\n",
        "\n",
        "\n",
        "class _Dataset:\n",
        "\n",
        "    def __init__(self,x_data,y_data=None):\n",
        "        if isinstance(x_data,list):\n",
        "            x_data = np.asarray(x_data)\n",
        "\n",
        "        self.index_in_epoch = 0\n",
        "        self.x_data = x_data\n",
        "        self.num_samples = x_data.shape[0]\n",
        "\n",
        "        if y_data:\n",
        "            if isinstance(y_data,list):\n",
        "                y_data = self._convertY(y_data)\n",
        "                self.y_data = y_data\n",
        "        else:\n",
        "            self.y_data = []\n",
        "    def __len__(self):\n",
        "        return len(self.x_data)\n",
        "\n",
        "    def getClassCounts(self):\n",
        "        return np.sum(self.y_data,axis=0)\n",
        "\n",
        "    def _convertY(self, y_data):\n",
        "        out = np.zeros((len(y_data),2))\n",
        "        for i,cl in enumerate(y_data):\n",
        "            out[i][cl] = 1\n",
        "        return out\n",
        "\n",
        "    def next_batch(self,batch_size):\n",
        "        start = self.index_in_epoch\n",
        "        end = self.index_in_epoch + batch_size\n",
        "\n",
        "        if start == 0:\n",
        "            idx = np.arange(0, self.num_samples)  # get all possible indexes\n",
        "            np.random.shuffle(idx)  # shuffle indexes\n",
        "            self.x_data = self.x_data[idx]\n",
        "            if len(self.y_data) > 0:\n",
        "                self.y_data = self.y_data[idx]\n",
        "\n",
        "        if end < self.num_samples:\n",
        "            self.index_in_epoch = end\n",
        "            return self.x_data[start:end], self.y_data[start:end], False # epoch finished = False\n",
        "        else:\n",
        "            self.index_in_epoch = 0\n",
        "            return self.x_data[start:], self.y_data[start:], True #epoch finished = True\n",
        "\n",
        "\n",
        "    def stepsInEpoch(self,batch_size):\n",
        "        return math.ceil(len(self) / batch_size)\n",
        "\n",
        "    def getX(self):\n",
        "        return self.x_data\n",
        "\n",
        "    def getSequenceLength(self):\n",
        "        return len(self.x_data[0])"
      ],
      "execution_count": 45,
      "outputs": [
        {
          "output_type": "stream",
          "name": "stdout",
          "text": [
            "WARNING:tensorflow:From /usr/local/lib/python3.7/dist-packages/tensorflow/python/compat/v2_compat.py:111: disable_resource_variables (from tensorflow.python.ops.variable_scope) is deprecated and will be removed in a future version.\n",
            "Instructions for updating:\n",
            "non-resource variables are not supported in the long term\n"
          ]
        }
      ]
    },
    {
      "cell_type": "code",
      "metadata": {
        "id": "_UxVy2lyjYuW"
      },
      "source": [
        "def convertLines(lines):\n",
        "    newLines = []\n",
        "    for line in lines:\n",
        "        newline = []\n",
        "        for c in line.strip():\n",
        "            v = []\n",
        "            if c == 'A':\n",
        "                v = [1,0,0,0]\n",
        "            elif c == 'C':\n",
        "                v = [0,1,0,0]\n",
        "            elif c == 'G':\n",
        "                v = [0,0,1,0]\n",
        "            elif c == 'T':\n",
        "                v = [0,0,0,1]\n",
        "            if v != []:\n",
        "                newline.append(v)\n",
        "        newLines.append(newline)\n",
        "    return newLines"
      ],
      "execution_count": 46,
      "outputs": []
    },
    {
      "cell_type": "code",
      "metadata": {
        "id": "XYiP4x8ljamB"
      },
      "source": [
        "def readInputs(f1,f2):\n",
        "    lines_pos = open(f1).readlines()\n",
        "    lines_neg = open(f2).readlines()\n",
        "\n",
        "    X = []\n",
        "    Y = []\n",
        "\n",
        "    for l in convertLines(lines_pos):\n",
        "        X.append(l)\n",
        "        Y.append(1)\n",
        "    for l in convertLines(lines_neg):\n",
        "        X.append(l)\n",
        "        Y.append(0)\n",
        "\n",
        "    return X,Y"
      ],
      "execution_count": 47,
      "outputs": []
    },
    {
      "cell_type": "code",
      "metadata": {
        "id": "SwypVsm0jiZv"
      },
      "source": [
        "def regular_network():\n",
        "  net_model = NetworkModel()\n",
        "  net_model.addInputLayer()\n",
        "  net_model.addFullyConnectedLayer(50)\n",
        "  net_model.addFullyConnectedLayer(50)\n",
        "  net_model.addOutputLayer()\n",
        "  return net_model"
      ],
      "execution_count": 48,
      "outputs": []
    },
    {
      "cell_type": "code",
      "metadata": {
        "colab": {
          "base_uri": "https://localhost:8080/"
        },
        "id": "rBWgXHMnji-m",
        "outputId": "fdf0b27d-6ab5-4a2c-8ee1-d9a7ce66e263"
      },
      "source": [
        "nm = regular_network()\n",
        "nm.printDetails()"
      ],
      "execution_count": 49,
      "outputs": [
        {
          "output_type": "stream",
          "name": "stdout",
          "text": [
            "####################################\n",
            "Network information:\n",
            "This network has 12702 trainable parameters.\n",
            " 0. Input layer                                                                -> Output size: (?, 50, 4)\n",
            " 1. Flatten layer                                                              -> Output size: (?, 200)\n",
            " 2. Fully-connected layer   50 neurons, with ReLU                              -> Output size: (?, 50)\n",
            " 3. Fully-connected layer   50 neurons, with ReLU                              -> Output size: (?, 50)\n",
            " 4. Softmax (output) layer  2 neurons                                          -> Output size: (?, 2)\n",
            "\n",
            "####################################\n"
          ]
        },
        {
          "output_type": "stream",
          "name": "stderr",
          "text": [
            "/usr/local/lib/python3.7/dist-packages/ipykernel_launcher.py:112: UserWarning: `tf.layers.flatten` is deprecated and will be removed in a future version. Please use `tf.keras.layers.Flatten` instead.\n",
            "/usr/local/lib/python3.7/dist-packages/keras/legacy_tf_layers/core.py:523: UserWarning: `layer.apply` is deprecated and will be removed in a future version. Please use `layer.__call__` method instead.\n",
            "  return layer.apply(inputs)\n",
            "/usr/local/lib/python3.7/dist-packages/ipykernel_launcher.py:115: UserWarning: `tf.layers.dense` is deprecated and will be removed in a future version. Please use `tf.keras.layers.Dense` instead.\n",
            "/usr/local/lib/python3.7/dist-packages/keras/legacy_tf_layers/core.py:255: UserWarning: `layer.apply` is deprecated and will be removed in a future version. Please use `layer.__call__` method instead.\n",
            "  return layer.apply(inputs)\n",
            "/usr/local/lib/python3.7/dist-packages/ipykernel_launcher.py:132: UserWarning: `tf.layers.dense` is deprecated and will be removed in a future version. Please use `tf.keras.layers.Dense` instead.\n"
          ]
        }
      ]
    },
    {
      "cell_type": "code",
      "metadata": {
        "id": "QWqaMNHBk5vB"
      },
      "source": [
        "X, y = readInputs('pos.fa', 'neg.fa')"
      ],
      "execution_count": 50,
      "outputs": []
    },
    {
      "cell_type": "code",
      "metadata": {
        "id": "ATwZL25qohQi"
      },
      "source": [
        "from sklearn.model_selection import train_test_split\n",
        "\n",
        "trainX, testX, trainY, testY = train_test_split(X, y, test_size=0.3, random_state=2)\n",
        "trainX, validX, trainY, validY = train_test_split(trainX, trainY, test_size=0.2, random_state=212)"
      ],
      "execution_count": 51,
      "outputs": []
    },
    {
      "cell_type": "code",
      "metadata": {
        "colab": {
          "base_uri": "https://localhost:8080/"
        },
        "id": "N6Il58vFsEtL",
        "outputId": "6383b93f-139c-4fad-9b10-19d9bb16cbe3"
      },
      "source": [
        "len(validX[0])"
      ],
      "execution_count": 52,
      "outputs": [
        {
          "output_type": "execute_result",
          "data": {
            "text/plain": [
              "50"
            ]
          },
          "metadata": {},
          "execution_count": 52
        }
      ]
    },
    {
      "cell_type": "markdown",
      "metadata": {
        "id": "A6A-LZR8uZXj"
      },
      "source": [
        "К сожалению, нейросетка не запустилась, какие бы танцы с бубнами я над ней ни танцевала. Честно говоря, идей уже нет, сидела часов 10, не получается("
      ]
    },
    {
      "cell_type": "code",
      "metadata": {
        "colab": {
          "base_uri": "https://localhost:8080/",
          "height": 696
        },
        "id": "eGFY7j5zjuoJ",
        "outputId": "7a899fcc-d170-4bd3-96bd-cbfcaeeae466"
      },
      "source": [
        "nm.train(trainX,trainY,validX,validY,10)"
      ],
      "execution_count": 54,
      "outputs": [
        {
          "output_type": "stream",
          "name": "stdout",
          "text": [
            "####################################\n",
            "\n",
            "Number of training examples: 21380\n",
            "Distribution of the training set:\n",
            "  # elements of class 0 = 21157\n",
            "  # elements of class 1 = 223\n",
            "\n",
            "Number of validation examples: 5346\n",
            "Distribution of the validation set:\n",
            "  # elements of class 0 = 5288\n",
            "  # elements of class 1 = 58\n",
            "\n",
            " epoch |   train cost   |   valid cost   |  train acc  |  valid acc  |   time   \n",
            "-------+----------------+----------------+-------------+-------------+----------\n"
          ]
        },
        {
          "output_type": "stream",
          "name": "stderr",
          "text": [
            "/usr/local/lib/python3.7/dist-packages/numpy/core/_asarray.py:83: VisibleDeprecationWarning: Creating an ndarray from ragged nested sequences (which is a list-or-tuple of lists-or-tuples-or ndarrays with different lengths or shapes) is deprecated. If you meant to do this, you must specify 'dtype=object' when creating the ndarray\n",
            "  return array(a, dtype, copy=False, order=order)\n"
          ]
        },
        {
          "output_type": "error",
          "ename": "ValueError",
          "evalue": "ignored",
          "traceback": [
            "\u001b[0;31m---------------------------------------------------------------------------\u001b[0m",
            "\u001b[0;31mTypeError\u001b[0m                                 Traceback (most recent call last)",
            "\u001b[0;31mTypeError\u001b[0m: float() argument must be a string or a number, not 'list'",
            "\nThe above exception was the direct cause of the following exception:\n",
            "\u001b[0;31mValueError\u001b[0m                                Traceback (most recent call last)",
            "\u001b[0;32m<ipython-input-54-9bb3294aef35>\u001b[0m in \u001b[0;36m<module>\u001b[0;34m()\u001b[0m\n\u001b[0;32m----> 1\u001b[0;31m \u001b[0mnm\u001b[0m\u001b[0;34m.\u001b[0m\u001b[0mtrain\u001b[0m\u001b[0;34m(\u001b[0m\u001b[0mtrainX\u001b[0m\u001b[0;34m,\u001b[0m\u001b[0mtrainY\u001b[0m\u001b[0;34m,\u001b[0m\u001b[0mvalidX\u001b[0m\u001b[0;34m,\u001b[0m\u001b[0mvalidY\u001b[0m\u001b[0;34m,\u001b[0m\u001b[0;36m10\u001b[0m\u001b[0;34m)\u001b[0m\u001b[0;34m\u001b[0m\u001b[0;34m\u001b[0m\u001b[0m\n\u001b[0m",
            "\u001b[0;32m<ipython-input-45-926710e18a3a>\u001b[0m in \u001b[0;36mtrain\u001b[0;34m(self, trainX, trainY, validX, validY, n_epochs)\u001b[0m\n\u001b[1;32m    195\u001b[0m         \u001b[0mprint\u001b[0m\u001b[0;34m(\u001b[0m\u001b[0;34m'-{:-^6}+{:-^16}+{:-^16}+{:-^13}+{:-^13}+{:-^9}-'\u001b[0m\u001b[0;34m.\u001b[0m\u001b[0mformat\u001b[0m\u001b[0;34m(\u001b[0m\u001b[0;34m''\u001b[0m\u001b[0;34m,\u001b[0m\u001b[0;34m''\u001b[0m\u001b[0;34m,\u001b[0m\u001b[0;34m''\u001b[0m\u001b[0;34m,\u001b[0m\u001b[0;34m''\u001b[0m\u001b[0;34m,\u001b[0m\u001b[0;34m''\u001b[0m\u001b[0;34m,\u001b[0m\u001b[0;34m''\u001b[0m\u001b[0;34m)\u001b[0m\u001b[0;34m)\u001b[0m\u001b[0;34m\u001b[0m\u001b[0;34m\u001b[0m\u001b[0m\n\u001b[1;32m    196\u001b[0m \u001b[0;34m\u001b[0m\u001b[0m\n\u001b[0;32m--> 197\u001b[0;31m         \u001b[0mtr_cost\u001b[0m\u001b[0;34m,\u001b[0m \u001b[0mtr_acc\u001b[0m \u001b[0;34m=\u001b[0m \u001b[0mself\u001b[0m\u001b[0;34m.\u001b[0m\u001b[0m_evaluateSet\u001b[0m\u001b[0;34m(\u001b[0m\u001b[0mtrain_dataset\u001b[0m\u001b[0;34m)\u001b[0m\u001b[0;34m\u001b[0m\u001b[0;34m\u001b[0m\u001b[0m\n\u001b[0m\u001b[1;32m    198\u001b[0m         \u001b[0mva_cost\u001b[0m\u001b[0;34m,\u001b[0m \u001b[0mva_acc\u001b[0m \u001b[0;34m=\u001b[0m \u001b[0mself\u001b[0m\u001b[0;34m.\u001b[0m\u001b[0m_evaluateSet\u001b[0m\u001b[0;34m(\u001b[0m\u001b[0mvalid_dataset\u001b[0m\u001b[0;34m)\u001b[0m\u001b[0;34m\u001b[0m\u001b[0;34m\u001b[0m\u001b[0m\n\u001b[1;32m    199\u001b[0m         \u001b[0mprint\u001b[0m\u001b[0;34m(\u001b[0m\u001b[0;34m' {:5d} |   {:2.8f}   |   {:2.8f}   |  {:1.7f}  | {:1.7f}  | {:4.2f}s '\u001b[0m\u001b[0;34m.\u001b[0m\u001b[0mformat\u001b[0m\u001b[0;34m(\u001b[0m\u001b[0;36m0\u001b[0m\u001b[0;34m,\u001b[0m\u001b[0mtr_cost\u001b[0m\u001b[0;34m,\u001b[0m\u001b[0mtr_acc\u001b[0m\u001b[0;34m,\u001b[0m\u001b[0mva_cost\u001b[0m\u001b[0;34m,\u001b[0m\u001b[0mva_acc\u001b[0m\u001b[0;34m,\u001b[0m\u001b[0;36m0\u001b[0m\u001b[0;34m)\u001b[0m\u001b[0;34m)\u001b[0m\u001b[0;34m\u001b[0m\u001b[0;34m\u001b[0m\u001b[0m\n",
            "\u001b[0;32m<ipython-input-45-926710e18a3a>\u001b[0m in \u001b[0;36m_evaluateSet\u001b[0;34m(self, dataset)\u001b[0m\n\u001b[1;32m    268\u001b[0m             \u001b[0mbatch_x\u001b[0m\u001b[0;34m,\u001b[0m \u001b[0mbatch_y\u001b[0m\u001b[0;34m,\u001b[0m \u001b[0mepoch_finished\u001b[0m \u001b[0;34m=\u001b[0m \u001b[0mdataset\u001b[0m\u001b[0;34m.\u001b[0m\u001b[0mnext_batch\u001b[0m\u001b[0;34m(\u001b[0m\u001b[0;36m256\u001b[0m\u001b[0;34m)\u001b[0m\u001b[0;34m\u001b[0m\u001b[0;34m\u001b[0m\u001b[0m\n\u001b[1;32m    269\u001b[0m \u001b[0;34m\u001b[0m\u001b[0m\n\u001b[0;32m--> 270\u001b[0;31m             \u001b[0mcost_batch\u001b[0m \u001b[0;34m=\u001b[0m \u001b[0mself\u001b[0m\u001b[0;34m.\u001b[0m\u001b[0msess\u001b[0m\u001b[0;34m.\u001b[0m\u001b[0mrun\u001b[0m\u001b[0;34m(\u001b[0m\u001b[0mself\u001b[0m\u001b[0;34m.\u001b[0m\u001b[0mcost_f\u001b[0m\u001b[0;34m,\u001b[0m \u001b[0mfeed_dict\u001b[0m\u001b[0;34m=\u001b[0m\u001b[0;34m{\u001b[0m\u001b[0mself\u001b[0m\u001b[0;34m.\u001b[0m\u001b[0mX_placeholder\u001b[0m\u001b[0;34m:\u001b[0m \u001b[0mbatch_x\u001b[0m\u001b[0;34m,\u001b[0m\u001b[0mself\u001b[0m\u001b[0;34m.\u001b[0m\u001b[0mY_placeholder\u001b[0m\u001b[0;34m:\u001b[0m \u001b[0mbatch_y\u001b[0m\u001b[0;34m}\u001b[0m\u001b[0;34m)\u001b[0m\u001b[0;34m\u001b[0m\u001b[0;34m\u001b[0m\u001b[0m\n\u001b[0m\u001b[1;32m    271\u001b[0m             \u001b[0m_\u001b[0m \u001b[0;34m=\u001b[0m \u001b[0mself\u001b[0m\u001b[0;34m.\u001b[0m\u001b[0msess\u001b[0m\u001b[0;34m.\u001b[0m\u001b[0mrun\u001b[0m\u001b[0;34m(\u001b[0m\u001b[0;34m[\u001b[0m\u001b[0mself\u001b[0m\u001b[0;34m.\u001b[0m\u001b[0macc_op\u001b[0m\u001b[0;34m]\u001b[0m\u001b[0;34m,\u001b[0m \u001b[0mfeed_dict\u001b[0m\u001b[0;34m=\u001b[0m\u001b[0;34m{\u001b[0m\u001b[0mself\u001b[0m\u001b[0;34m.\u001b[0m\u001b[0mX_placeholder\u001b[0m\u001b[0;34m:\u001b[0m \u001b[0mbatch_x\u001b[0m\u001b[0;34m,\u001b[0m\u001b[0mself\u001b[0m\u001b[0;34m.\u001b[0m\u001b[0mY_placeholder\u001b[0m\u001b[0;34m:\u001b[0m \u001b[0mbatch_y\u001b[0m\u001b[0;34m}\u001b[0m\u001b[0;34m)\u001b[0m\u001b[0;34m\u001b[0m\u001b[0;34m\u001b[0m\u001b[0m\n\u001b[1;32m    272\u001b[0m             \u001b[0mcosts\u001b[0m\u001b[0;34m.\u001b[0m\u001b[0mextend\u001b[0m\u001b[0;34m(\u001b[0m\u001b[0;34m[\u001b[0m\u001b[0mcost_batch\u001b[0m\u001b[0;34m]\u001b[0m \u001b[0;34m*\u001b[0m \u001b[0mlen\u001b[0m\u001b[0;34m(\u001b[0m\u001b[0mbatch_y\u001b[0m\u001b[0;34m)\u001b[0m\u001b[0;34m)\u001b[0m\u001b[0;34m\u001b[0m\u001b[0;34m\u001b[0m\u001b[0m\n",
            "\u001b[0;32m/usr/local/lib/python3.7/dist-packages/tensorflow/python/client/session.py\u001b[0m in \u001b[0;36mrun\u001b[0;34m(self, fetches, feed_dict, options, run_metadata)\u001b[0m\n\u001b[1;32m    969\u001b[0m     \u001b[0;32mtry\u001b[0m\u001b[0;34m:\u001b[0m\u001b[0;34m\u001b[0m\u001b[0;34m\u001b[0m\u001b[0m\n\u001b[1;32m    970\u001b[0m       result = self._run(None, fetches, feed_dict, options_ptr,\n\u001b[0;32m--> 971\u001b[0;31m                          run_metadata_ptr)\n\u001b[0m\u001b[1;32m    972\u001b[0m       \u001b[0;32mif\u001b[0m \u001b[0mrun_metadata\u001b[0m\u001b[0;34m:\u001b[0m\u001b[0;34m\u001b[0m\u001b[0;34m\u001b[0m\u001b[0m\n\u001b[1;32m    973\u001b[0m         \u001b[0mproto_data\u001b[0m \u001b[0;34m=\u001b[0m \u001b[0mtf_session\u001b[0m\u001b[0;34m.\u001b[0m\u001b[0mTF_GetBuffer\u001b[0m\u001b[0;34m(\u001b[0m\u001b[0mrun_metadata_ptr\u001b[0m\u001b[0;34m)\u001b[0m\u001b[0;34m\u001b[0m\u001b[0;34m\u001b[0m\u001b[0m\n",
            "\u001b[0;32m/usr/local/lib/python3.7/dist-packages/tensorflow/python/client/session.py\u001b[0m in \u001b[0;36m_run\u001b[0;34m(self, handle, fetches, feed_dict, options, run_metadata)\u001b[0m\n\u001b[1;32m   1161\u001b[0m             \u001b[0mfeed_handles\u001b[0m\u001b[0;34m[\u001b[0m\u001b[0msubfeed_t\u001b[0m\u001b[0;34m.\u001b[0m\u001b[0mref\u001b[0m\u001b[0;34m(\u001b[0m\u001b[0;34m)\u001b[0m\u001b[0;34m]\u001b[0m \u001b[0;34m=\u001b[0m \u001b[0msubfeed_val\u001b[0m\u001b[0;34m\u001b[0m\u001b[0;34m\u001b[0m\u001b[0m\n\u001b[1;32m   1162\u001b[0m           \u001b[0;32melse\u001b[0m\u001b[0;34m:\u001b[0m\u001b[0;34m\u001b[0m\u001b[0;34m\u001b[0m\u001b[0m\n\u001b[0;32m-> 1163\u001b[0;31m             \u001b[0mnp_val\u001b[0m \u001b[0;34m=\u001b[0m \u001b[0mnp\u001b[0m\u001b[0;34m.\u001b[0m\u001b[0masarray\u001b[0m\u001b[0;34m(\u001b[0m\u001b[0msubfeed_val\u001b[0m\u001b[0;34m,\u001b[0m \u001b[0mdtype\u001b[0m\u001b[0;34m=\u001b[0m\u001b[0msubfeed_dtype\u001b[0m\u001b[0;34m)\u001b[0m\u001b[0;34m\u001b[0m\u001b[0;34m\u001b[0m\u001b[0m\n\u001b[0m\u001b[1;32m   1164\u001b[0m \u001b[0;34m\u001b[0m\u001b[0m\n\u001b[1;32m   1165\u001b[0m           if (not is_tensor_handle_feed and\n",
            "\u001b[0;32m/usr/local/lib/python3.7/dist-packages/numpy/core/_asarray.py\u001b[0m in \u001b[0;36masarray\u001b[0;34m(a, dtype, order)\u001b[0m\n\u001b[1;32m     81\u001b[0m \u001b[0;34m\u001b[0m\u001b[0m\n\u001b[1;32m     82\u001b[0m     \"\"\"\n\u001b[0;32m---> 83\u001b[0;31m     \u001b[0;32mreturn\u001b[0m \u001b[0marray\u001b[0m\u001b[0;34m(\u001b[0m\u001b[0ma\u001b[0m\u001b[0;34m,\u001b[0m \u001b[0mdtype\u001b[0m\u001b[0;34m,\u001b[0m \u001b[0mcopy\u001b[0m\u001b[0;34m=\u001b[0m\u001b[0;32mFalse\u001b[0m\u001b[0;34m,\u001b[0m \u001b[0morder\u001b[0m\u001b[0;34m=\u001b[0m\u001b[0morder\u001b[0m\u001b[0;34m)\u001b[0m\u001b[0;34m\u001b[0m\u001b[0;34m\u001b[0m\u001b[0m\n\u001b[0m\u001b[1;32m     84\u001b[0m \u001b[0;34m\u001b[0m\u001b[0m\n\u001b[1;32m     85\u001b[0m \u001b[0;34m\u001b[0m\u001b[0m\n",
            "\u001b[0;31mValueError\u001b[0m: setting an array element with a sequence."
          ]
        }
      ]
    },
    {
      "cell_type": "code",
      "metadata": {
        "id": "q1kFV7IZjwVU"
      },
      "source": [
        "def conv_network():\n",
        "  cnn_model = NetworkModel()\n",
        "  cnn_model.addInputLayer()\n",
        "  cnn_model.addConvLayer(10,7)\n",
        "  cnn_model.addMaxPoolLayer(5)\n",
        "  cnn_model.addConvLayer(20,5)\n",
        "  cnn_model.addMaxPoolLayer(5)\n",
        "  cnn_model.addFullyConnectedLayer(15)\n",
        "  cnn_model.addOutputLayer()\n",
        "  return cnn_model"
      ],
      "execution_count": 55,
      "outputs": []
    },
    {
      "cell_type": "code",
      "metadata": {
        "id": "fL6yjdnzjy4M",
        "colab": {
          "base_uri": "https://localhost:8080/"
        },
        "outputId": "10b8bdc3-b459-4491-fc1b-7975acc6aa69"
      },
      "source": [
        "cnn = conv_network()\n",
        "cnn.printDetails()"
      ],
      "execution_count": 56,
      "outputs": [
        {
          "output_type": "stream",
          "name": "stdout",
          "text": [
            "####################################\n",
            "Network information:\n",
            "This network has 1957 trainable parameters.\n",
            " 0. Input layer                                                                -> Output size: (?, 50, 4)\n",
            " 1. Convolutional layer     10 filters, width 7, zero padding, with ReLU       -> Output size: (?, 50, 10)\n",
            " 2. Max pooling layer       pool size 5                                        -> Output size: (?, 10, 10)\n",
            " 3. Convolutional layer     20 filters, width 5, zero padding, with ReLU       -> Output size: (?, 10, 20)\n",
            " 4. Max pooling layer       pool size 5                                        -> Output size: (?, 2, 20)\n",
            " 5. Flatten layer                                                              -> Output size: (?, 40)\n",
            " 6. Fully-connected layer   15 neurons, with ReLU                              -> Output size: (?, 15)\n",
            " 7. Softmax (output) layer  2 neurons                                          -> Output size: (?, 2)\n",
            "\n",
            "####################################\n"
          ]
        },
        {
          "output_type": "stream",
          "name": "stderr",
          "text": [
            "/usr/local/lib/python3.7/dist-packages/ipykernel_launcher.py:82: UserWarning: `tf.layers.conv1d` is deprecated and will be removed in a future version. Please Use `tf.keras.layers.Conv1D` instead.\n",
            "/usr/local/lib/python3.7/dist-packages/keras/legacy_tf_layers/convolutional.py:288: UserWarning: `layer.apply` is deprecated and will be removed in a future version. Please use `layer.__call__` method instead.\n",
            "  return layer.apply(inputs)\n",
            "/usr/local/lib/python3.7/dist-packages/ipykernel_launcher.py:97: UserWarning: `tf.layers.max_pooling1d` is deprecated and will be removed in a future version. Please use `tf.keras.layers.MaxPooling1D` instead.\n",
            "/usr/local/lib/python3.7/dist-packages/keras/legacy_tf_layers/pooling.py:294: UserWarning: `layer.apply` is deprecated and will be removed in a future version. Please use `layer.__call__` method instead.\n",
            "  return layer.apply(inputs)\n",
            "/usr/local/lib/python3.7/dist-packages/ipykernel_launcher.py:112: UserWarning: `tf.layers.flatten` is deprecated and will be removed in a future version. Please use `tf.keras.layers.Flatten` instead.\n",
            "/usr/local/lib/python3.7/dist-packages/keras/legacy_tf_layers/core.py:523: UserWarning: `layer.apply` is deprecated and will be removed in a future version. Please use `layer.__call__` method instead.\n",
            "  return layer.apply(inputs)\n",
            "/usr/local/lib/python3.7/dist-packages/ipykernel_launcher.py:115: UserWarning: `tf.layers.dense` is deprecated and will be removed in a future version. Please use `tf.keras.layers.Dense` instead.\n",
            "/usr/local/lib/python3.7/dist-packages/keras/legacy_tf_layers/core.py:255: UserWarning: `layer.apply` is deprecated and will be removed in a future version. Please use `layer.__call__` method instead.\n",
            "  return layer.apply(inputs)\n",
            "/usr/local/lib/python3.7/dist-packages/ipykernel_launcher.py:132: UserWarning: `tf.layers.dense` is deprecated and will be removed in a future version. Please use `tf.keras.layers.Dense` instead.\n"
          ]
        }
      ]
    },
    {
      "cell_type": "code",
      "metadata": {
        "id": "Tzmg3hvfj1E2",
        "colab": {
          "base_uri": "https://localhost:8080/",
          "height": 696
        },
        "outputId": "b20a0943-909f-4fa6-e989-b6242245bf82"
      },
      "source": [
        "cnn.train(trainX,trainY,validX,validY,10)"
      ],
      "execution_count": 57,
      "outputs": [
        {
          "output_type": "stream",
          "name": "stdout",
          "text": [
            "####################################\n"
          ]
        },
        {
          "output_type": "stream",
          "name": "stderr",
          "text": [
            "/usr/local/lib/python3.7/dist-packages/numpy/core/_asarray.py:83: VisibleDeprecationWarning: Creating an ndarray from ragged nested sequences (which is a list-or-tuple of lists-or-tuples-or ndarrays with different lengths or shapes) is deprecated. If you meant to do this, you must specify 'dtype=object' when creating the ndarray\n",
            "  return array(a, dtype, copy=False, order=order)\n"
          ]
        },
        {
          "output_type": "stream",
          "name": "stdout",
          "text": [
            "\n",
            "Number of training examples: 21380\n",
            "Distribution of the training set:\n",
            "  # elements of class 0 = 21157\n",
            "  # elements of class 1 = 223\n",
            "\n",
            "Number of validation examples: 5346\n",
            "Distribution of the validation set:\n",
            "  # elements of class 0 = 5288\n",
            "  # elements of class 1 = 58\n",
            "\n",
            " epoch |   train cost   |   valid cost   |  train acc  |  valid acc  |   time   \n",
            "-------+----------------+----------------+-------------+-------------+----------\n"
          ]
        },
        {
          "output_type": "error",
          "ename": "ValueError",
          "evalue": "ignored",
          "traceback": [
            "\u001b[0;31m---------------------------------------------------------------------------\u001b[0m",
            "\u001b[0;31mTypeError\u001b[0m                                 Traceback (most recent call last)",
            "\u001b[0;31mTypeError\u001b[0m: float() argument must be a string or a number, not 'list'",
            "\nThe above exception was the direct cause of the following exception:\n",
            "\u001b[0;31mValueError\u001b[0m                                Traceback (most recent call last)",
            "\u001b[0;32m<ipython-input-57-8146655416be>\u001b[0m in \u001b[0;36m<module>\u001b[0;34m()\u001b[0m\n\u001b[0;32m----> 1\u001b[0;31m \u001b[0mcnn\u001b[0m\u001b[0;34m.\u001b[0m\u001b[0mtrain\u001b[0m\u001b[0;34m(\u001b[0m\u001b[0mtrainX\u001b[0m\u001b[0;34m,\u001b[0m\u001b[0mtrainY\u001b[0m\u001b[0;34m,\u001b[0m\u001b[0mvalidX\u001b[0m\u001b[0;34m,\u001b[0m\u001b[0mvalidY\u001b[0m\u001b[0;34m,\u001b[0m\u001b[0;36m10\u001b[0m\u001b[0;34m)\u001b[0m\u001b[0;34m\u001b[0m\u001b[0;34m\u001b[0m\u001b[0m\n\u001b[0m",
            "\u001b[0;32m<ipython-input-45-926710e18a3a>\u001b[0m in \u001b[0;36mtrain\u001b[0;34m(self, trainX, trainY, validX, validY, n_epochs)\u001b[0m\n\u001b[1;32m    195\u001b[0m         \u001b[0mprint\u001b[0m\u001b[0;34m(\u001b[0m\u001b[0;34m'-{:-^6}+{:-^16}+{:-^16}+{:-^13}+{:-^13}+{:-^9}-'\u001b[0m\u001b[0;34m.\u001b[0m\u001b[0mformat\u001b[0m\u001b[0;34m(\u001b[0m\u001b[0;34m''\u001b[0m\u001b[0;34m,\u001b[0m\u001b[0;34m''\u001b[0m\u001b[0;34m,\u001b[0m\u001b[0;34m''\u001b[0m\u001b[0;34m,\u001b[0m\u001b[0;34m''\u001b[0m\u001b[0;34m,\u001b[0m\u001b[0;34m''\u001b[0m\u001b[0;34m,\u001b[0m\u001b[0;34m''\u001b[0m\u001b[0;34m)\u001b[0m\u001b[0;34m)\u001b[0m\u001b[0;34m\u001b[0m\u001b[0;34m\u001b[0m\u001b[0m\n\u001b[1;32m    196\u001b[0m \u001b[0;34m\u001b[0m\u001b[0m\n\u001b[0;32m--> 197\u001b[0;31m         \u001b[0mtr_cost\u001b[0m\u001b[0;34m,\u001b[0m \u001b[0mtr_acc\u001b[0m \u001b[0;34m=\u001b[0m \u001b[0mself\u001b[0m\u001b[0;34m.\u001b[0m\u001b[0m_evaluateSet\u001b[0m\u001b[0;34m(\u001b[0m\u001b[0mtrain_dataset\u001b[0m\u001b[0;34m)\u001b[0m\u001b[0;34m\u001b[0m\u001b[0;34m\u001b[0m\u001b[0m\n\u001b[0m\u001b[1;32m    198\u001b[0m         \u001b[0mva_cost\u001b[0m\u001b[0;34m,\u001b[0m \u001b[0mva_acc\u001b[0m \u001b[0;34m=\u001b[0m \u001b[0mself\u001b[0m\u001b[0;34m.\u001b[0m\u001b[0m_evaluateSet\u001b[0m\u001b[0;34m(\u001b[0m\u001b[0mvalid_dataset\u001b[0m\u001b[0;34m)\u001b[0m\u001b[0;34m\u001b[0m\u001b[0;34m\u001b[0m\u001b[0m\n\u001b[1;32m    199\u001b[0m         \u001b[0mprint\u001b[0m\u001b[0;34m(\u001b[0m\u001b[0;34m' {:5d} |   {:2.8f}   |   {:2.8f}   |  {:1.7f}  | {:1.7f}  | {:4.2f}s '\u001b[0m\u001b[0;34m.\u001b[0m\u001b[0mformat\u001b[0m\u001b[0;34m(\u001b[0m\u001b[0;36m0\u001b[0m\u001b[0;34m,\u001b[0m\u001b[0mtr_cost\u001b[0m\u001b[0;34m,\u001b[0m\u001b[0mtr_acc\u001b[0m\u001b[0;34m,\u001b[0m\u001b[0mva_cost\u001b[0m\u001b[0;34m,\u001b[0m\u001b[0mva_acc\u001b[0m\u001b[0;34m,\u001b[0m\u001b[0;36m0\u001b[0m\u001b[0;34m)\u001b[0m\u001b[0;34m)\u001b[0m\u001b[0;34m\u001b[0m\u001b[0;34m\u001b[0m\u001b[0m\n",
            "\u001b[0;32m<ipython-input-45-926710e18a3a>\u001b[0m in \u001b[0;36m_evaluateSet\u001b[0;34m(self, dataset)\u001b[0m\n\u001b[1;32m    268\u001b[0m             \u001b[0mbatch_x\u001b[0m\u001b[0;34m,\u001b[0m \u001b[0mbatch_y\u001b[0m\u001b[0;34m,\u001b[0m \u001b[0mepoch_finished\u001b[0m \u001b[0;34m=\u001b[0m \u001b[0mdataset\u001b[0m\u001b[0;34m.\u001b[0m\u001b[0mnext_batch\u001b[0m\u001b[0;34m(\u001b[0m\u001b[0;36m256\u001b[0m\u001b[0;34m)\u001b[0m\u001b[0;34m\u001b[0m\u001b[0;34m\u001b[0m\u001b[0m\n\u001b[1;32m    269\u001b[0m \u001b[0;34m\u001b[0m\u001b[0m\n\u001b[0;32m--> 270\u001b[0;31m             \u001b[0mcost_batch\u001b[0m \u001b[0;34m=\u001b[0m \u001b[0mself\u001b[0m\u001b[0;34m.\u001b[0m\u001b[0msess\u001b[0m\u001b[0;34m.\u001b[0m\u001b[0mrun\u001b[0m\u001b[0;34m(\u001b[0m\u001b[0mself\u001b[0m\u001b[0;34m.\u001b[0m\u001b[0mcost_f\u001b[0m\u001b[0;34m,\u001b[0m \u001b[0mfeed_dict\u001b[0m\u001b[0;34m=\u001b[0m\u001b[0;34m{\u001b[0m\u001b[0mself\u001b[0m\u001b[0;34m.\u001b[0m\u001b[0mX_placeholder\u001b[0m\u001b[0;34m:\u001b[0m \u001b[0mbatch_x\u001b[0m\u001b[0;34m,\u001b[0m\u001b[0mself\u001b[0m\u001b[0;34m.\u001b[0m\u001b[0mY_placeholder\u001b[0m\u001b[0;34m:\u001b[0m \u001b[0mbatch_y\u001b[0m\u001b[0;34m}\u001b[0m\u001b[0;34m)\u001b[0m\u001b[0;34m\u001b[0m\u001b[0;34m\u001b[0m\u001b[0m\n\u001b[0m\u001b[1;32m    271\u001b[0m             \u001b[0m_\u001b[0m \u001b[0;34m=\u001b[0m \u001b[0mself\u001b[0m\u001b[0;34m.\u001b[0m\u001b[0msess\u001b[0m\u001b[0;34m.\u001b[0m\u001b[0mrun\u001b[0m\u001b[0;34m(\u001b[0m\u001b[0;34m[\u001b[0m\u001b[0mself\u001b[0m\u001b[0;34m.\u001b[0m\u001b[0macc_op\u001b[0m\u001b[0;34m]\u001b[0m\u001b[0;34m,\u001b[0m \u001b[0mfeed_dict\u001b[0m\u001b[0;34m=\u001b[0m\u001b[0;34m{\u001b[0m\u001b[0mself\u001b[0m\u001b[0;34m.\u001b[0m\u001b[0mX_placeholder\u001b[0m\u001b[0;34m:\u001b[0m \u001b[0mbatch_x\u001b[0m\u001b[0;34m,\u001b[0m\u001b[0mself\u001b[0m\u001b[0;34m.\u001b[0m\u001b[0mY_placeholder\u001b[0m\u001b[0;34m:\u001b[0m \u001b[0mbatch_y\u001b[0m\u001b[0;34m}\u001b[0m\u001b[0;34m)\u001b[0m\u001b[0;34m\u001b[0m\u001b[0;34m\u001b[0m\u001b[0m\n\u001b[1;32m    272\u001b[0m             \u001b[0mcosts\u001b[0m\u001b[0;34m.\u001b[0m\u001b[0mextend\u001b[0m\u001b[0;34m(\u001b[0m\u001b[0;34m[\u001b[0m\u001b[0mcost_batch\u001b[0m\u001b[0;34m]\u001b[0m \u001b[0;34m*\u001b[0m \u001b[0mlen\u001b[0m\u001b[0;34m(\u001b[0m\u001b[0mbatch_y\u001b[0m\u001b[0;34m)\u001b[0m\u001b[0;34m)\u001b[0m\u001b[0;34m\u001b[0m\u001b[0;34m\u001b[0m\u001b[0m\n",
            "\u001b[0;32m/usr/local/lib/python3.7/dist-packages/tensorflow/python/client/session.py\u001b[0m in \u001b[0;36mrun\u001b[0;34m(self, fetches, feed_dict, options, run_metadata)\u001b[0m\n\u001b[1;32m    969\u001b[0m     \u001b[0;32mtry\u001b[0m\u001b[0;34m:\u001b[0m\u001b[0;34m\u001b[0m\u001b[0;34m\u001b[0m\u001b[0m\n\u001b[1;32m    970\u001b[0m       result = self._run(None, fetches, feed_dict, options_ptr,\n\u001b[0;32m--> 971\u001b[0;31m                          run_metadata_ptr)\n\u001b[0m\u001b[1;32m    972\u001b[0m       \u001b[0;32mif\u001b[0m \u001b[0mrun_metadata\u001b[0m\u001b[0;34m:\u001b[0m\u001b[0;34m\u001b[0m\u001b[0;34m\u001b[0m\u001b[0m\n\u001b[1;32m    973\u001b[0m         \u001b[0mproto_data\u001b[0m \u001b[0;34m=\u001b[0m \u001b[0mtf_session\u001b[0m\u001b[0;34m.\u001b[0m\u001b[0mTF_GetBuffer\u001b[0m\u001b[0;34m(\u001b[0m\u001b[0mrun_metadata_ptr\u001b[0m\u001b[0;34m)\u001b[0m\u001b[0;34m\u001b[0m\u001b[0;34m\u001b[0m\u001b[0m\n",
            "\u001b[0;32m/usr/local/lib/python3.7/dist-packages/tensorflow/python/client/session.py\u001b[0m in \u001b[0;36m_run\u001b[0;34m(self, handle, fetches, feed_dict, options, run_metadata)\u001b[0m\n\u001b[1;32m   1161\u001b[0m             \u001b[0mfeed_handles\u001b[0m\u001b[0;34m[\u001b[0m\u001b[0msubfeed_t\u001b[0m\u001b[0;34m.\u001b[0m\u001b[0mref\u001b[0m\u001b[0;34m(\u001b[0m\u001b[0;34m)\u001b[0m\u001b[0;34m]\u001b[0m \u001b[0;34m=\u001b[0m \u001b[0msubfeed_val\u001b[0m\u001b[0;34m\u001b[0m\u001b[0;34m\u001b[0m\u001b[0m\n\u001b[1;32m   1162\u001b[0m           \u001b[0;32melse\u001b[0m\u001b[0;34m:\u001b[0m\u001b[0;34m\u001b[0m\u001b[0;34m\u001b[0m\u001b[0m\n\u001b[0;32m-> 1163\u001b[0;31m             \u001b[0mnp_val\u001b[0m \u001b[0;34m=\u001b[0m \u001b[0mnp\u001b[0m\u001b[0;34m.\u001b[0m\u001b[0masarray\u001b[0m\u001b[0;34m(\u001b[0m\u001b[0msubfeed_val\u001b[0m\u001b[0;34m,\u001b[0m \u001b[0mdtype\u001b[0m\u001b[0;34m=\u001b[0m\u001b[0msubfeed_dtype\u001b[0m\u001b[0;34m)\u001b[0m\u001b[0;34m\u001b[0m\u001b[0;34m\u001b[0m\u001b[0m\n\u001b[0m\u001b[1;32m   1164\u001b[0m \u001b[0;34m\u001b[0m\u001b[0m\n\u001b[1;32m   1165\u001b[0m           if (not is_tensor_handle_feed and\n",
            "\u001b[0;32m/usr/local/lib/python3.7/dist-packages/numpy/core/_asarray.py\u001b[0m in \u001b[0;36masarray\u001b[0;34m(a, dtype, order)\u001b[0m\n\u001b[1;32m     81\u001b[0m \u001b[0;34m\u001b[0m\u001b[0m\n\u001b[1;32m     82\u001b[0m     \"\"\"\n\u001b[0;32m---> 83\u001b[0;31m     \u001b[0;32mreturn\u001b[0m \u001b[0marray\u001b[0m\u001b[0;34m(\u001b[0m\u001b[0ma\u001b[0m\u001b[0;34m,\u001b[0m \u001b[0mdtype\u001b[0m\u001b[0;34m,\u001b[0m \u001b[0mcopy\u001b[0m\u001b[0;34m=\u001b[0m\u001b[0;32mFalse\u001b[0m\u001b[0;34m,\u001b[0m \u001b[0morder\u001b[0m\u001b[0;34m=\u001b[0m\u001b[0morder\u001b[0m\u001b[0;34m)\u001b[0m\u001b[0;34m\u001b[0m\u001b[0;34m\u001b[0m\u001b[0m\n\u001b[0m\u001b[1;32m     84\u001b[0m \u001b[0;34m\u001b[0m\u001b[0m\n\u001b[1;32m     85\u001b[0m \u001b[0;34m\u001b[0m\u001b[0m\n",
            "\u001b[0;31mValueError\u001b[0m: setting an array element with a sequence."
          ]
        }
      ]
    },
    {
      "cell_type": "code",
      "metadata": {
        "id": "ZmhOXDOqj2yQ",
        "colab": {
          "base_uri": "https://localhost:8080/",
          "height": 453
        },
        "outputId": "4e7def4a-9038-4ac7-ab50-4899e69b5551"
      },
      "source": [
        "pred = cnn.generatePredictions(testX)"
      ],
      "execution_count": 58,
      "outputs": [
        {
          "output_type": "stream",
          "name": "stderr",
          "text": [
            "/usr/local/lib/python3.7/dist-packages/numpy/core/_asarray.py:83: VisibleDeprecationWarning: Creating an ndarray from ragged nested sequences (which is a list-or-tuple of lists-or-tuples-or ndarrays with different lengths or shapes) is deprecated. If you meant to do this, you must specify 'dtype=object' when creating the ndarray\n",
            "  return array(a, dtype, copy=False, order=order)\n"
          ]
        },
        {
          "output_type": "error",
          "ename": "ValueError",
          "evalue": "ignored",
          "traceback": [
            "\u001b[0;31m---------------------------------------------------------------------------\u001b[0m",
            "\u001b[0;31mTypeError\u001b[0m                                 Traceback (most recent call last)",
            "\u001b[0;31mTypeError\u001b[0m: float() argument must be a string or a number, not 'list'",
            "\nThe above exception was the direct cause of the following exception:\n",
            "\u001b[0;31mValueError\u001b[0m                                Traceback (most recent call last)",
            "\u001b[0;32m<ipython-input-58-05d67b2572d9>\u001b[0m in \u001b[0;36m<module>\u001b[0;34m()\u001b[0m\n\u001b[0;32m----> 1\u001b[0;31m \u001b[0mpred\u001b[0m \u001b[0;34m=\u001b[0m \u001b[0mcnn\u001b[0m\u001b[0;34m.\u001b[0m\u001b[0mgeneratePredictions\u001b[0m\u001b[0;34m(\u001b[0m\u001b[0mtestX\u001b[0m\u001b[0;34m)\u001b[0m\u001b[0;34m\u001b[0m\u001b[0;34m\u001b[0m\u001b[0m\n\u001b[0m",
            "\u001b[0;32m<ipython-input-45-926710e18a3a>\u001b[0m in \u001b[0;36mgeneratePredictions\u001b[0;34m(self, testX)\u001b[0m\n\u001b[1;32m    233\u001b[0m         \u001b[0;32mfor\u001b[0m \u001b[0mi\u001b[0m \u001b[0;32min\u001b[0m \u001b[0mrange\u001b[0m\u001b[0;34m(\u001b[0m\u001b[0mmath\u001b[0m\u001b[0;34m.\u001b[0m\u001b[0mceil\u001b[0m\u001b[0;34m(\u001b[0m\u001b[0mlen\u001b[0m\u001b[0;34m(\u001b[0m\u001b[0mtestX\u001b[0m\u001b[0;34m)\u001b[0m\u001b[0;34m/\u001b[0m\u001b[0;36m256\u001b[0m\u001b[0;34m)\u001b[0m\u001b[0;34m)\u001b[0m\u001b[0;34m:\u001b[0m\u001b[0;34m\u001b[0m\u001b[0;34m\u001b[0m\u001b[0m\n\u001b[1;32m    234\u001b[0m             \u001b[0mbatch_x\u001b[0m \u001b[0;34m=\u001b[0m \u001b[0mnp\u001b[0m\u001b[0;34m.\u001b[0m\u001b[0masarray\u001b[0m\u001b[0;34m(\u001b[0m\u001b[0mtestX\u001b[0m\u001b[0;34m[\u001b[0m\u001b[0mi\u001b[0m\u001b[0;34m*\u001b[0m\u001b[0;36m256\u001b[0m\u001b[0;34m:\u001b[0m\u001b[0;34m(\u001b[0m\u001b[0mi\u001b[0m\u001b[0;34m+\u001b[0m\u001b[0;36m1\u001b[0m\u001b[0;34m)\u001b[0m\u001b[0;34m*\u001b[0m\u001b[0;36m256\u001b[0m\u001b[0;34m]\u001b[0m\u001b[0;34m)\u001b[0m\u001b[0;34m\u001b[0m\u001b[0;34m\u001b[0m\u001b[0m\n\u001b[0;32m--> 235\u001b[0;31m             \u001b[0mpreds\u001b[0m \u001b[0;34m=\u001b[0m \u001b[0mself\u001b[0m\u001b[0;34m.\u001b[0m\u001b[0msess\u001b[0m\u001b[0;34m.\u001b[0m\u001b[0mrun\u001b[0m\u001b[0;34m(\u001b[0m\u001b[0mself\u001b[0m\u001b[0;34m.\u001b[0m\u001b[0mpredictions_softmax\u001b[0m\u001b[0;34m,\u001b[0m\u001b[0mfeed_dict\u001b[0m\u001b[0;34m=\u001b[0m\u001b[0;34m{\u001b[0m\u001b[0mself\u001b[0m\u001b[0;34m.\u001b[0m\u001b[0mX_placeholder\u001b[0m\u001b[0;34m:\u001b[0m\u001b[0mbatch_x\u001b[0m\u001b[0;34m}\u001b[0m\u001b[0;34m)\u001b[0m\u001b[0;34m\u001b[0m\u001b[0;34m\u001b[0m\u001b[0m\n\u001b[0m\u001b[1;32m    236\u001b[0m             \u001b[0;32mfor\u001b[0m \u001b[0mi\u001b[0m \u001b[0;32min\u001b[0m \u001b[0mrange\u001b[0m\u001b[0;34m(\u001b[0m\u001b[0mlen\u001b[0m\u001b[0;34m(\u001b[0m\u001b[0mpreds\u001b[0m\u001b[0;34m)\u001b[0m\u001b[0;34m)\u001b[0m\u001b[0;34m:\u001b[0m\u001b[0;34m\u001b[0m\u001b[0;34m\u001b[0m\u001b[0m\n\u001b[1;32m    237\u001b[0m                 \u001b[0mall_preds\u001b[0m\u001b[0;34m.\u001b[0m\u001b[0mappend\u001b[0m\u001b[0;34m(\u001b[0m\u001b[0;34m(\u001b[0m\u001b[0mpreds\u001b[0m\u001b[0;34m[\u001b[0m\u001b[0mi\u001b[0m\u001b[0;34m]\u001b[0m\u001b[0;34m[\u001b[0m\u001b[0;36m0\u001b[0m\u001b[0;34m]\u001b[0m\u001b[0;34m,\u001b[0m\u001b[0mpreds\u001b[0m\u001b[0;34m[\u001b[0m\u001b[0mi\u001b[0m\u001b[0;34m]\u001b[0m\u001b[0;34m[\u001b[0m\u001b[0;36m1\u001b[0m\u001b[0;34m]\u001b[0m\u001b[0;34m)\u001b[0m\u001b[0;34m)\u001b[0m\u001b[0;34m\u001b[0m\u001b[0;34m\u001b[0m\u001b[0m\n",
            "\u001b[0;32m/usr/local/lib/python3.7/dist-packages/tensorflow/python/client/session.py\u001b[0m in \u001b[0;36mrun\u001b[0;34m(self, fetches, feed_dict, options, run_metadata)\u001b[0m\n\u001b[1;32m    969\u001b[0m     \u001b[0;32mtry\u001b[0m\u001b[0;34m:\u001b[0m\u001b[0;34m\u001b[0m\u001b[0;34m\u001b[0m\u001b[0m\n\u001b[1;32m    970\u001b[0m       result = self._run(None, fetches, feed_dict, options_ptr,\n\u001b[0;32m--> 971\u001b[0;31m                          run_metadata_ptr)\n\u001b[0m\u001b[1;32m    972\u001b[0m       \u001b[0;32mif\u001b[0m \u001b[0mrun_metadata\u001b[0m\u001b[0;34m:\u001b[0m\u001b[0;34m\u001b[0m\u001b[0;34m\u001b[0m\u001b[0m\n\u001b[1;32m    973\u001b[0m         \u001b[0mproto_data\u001b[0m \u001b[0;34m=\u001b[0m \u001b[0mtf_session\u001b[0m\u001b[0;34m.\u001b[0m\u001b[0mTF_GetBuffer\u001b[0m\u001b[0;34m(\u001b[0m\u001b[0mrun_metadata_ptr\u001b[0m\u001b[0;34m)\u001b[0m\u001b[0;34m\u001b[0m\u001b[0;34m\u001b[0m\u001b[0m\n",
            "\u001b[0;32m/usr/local/lib/python3.7/dist-packages/tensorflow/python/client/session.py\u001b[0m in \u001b[0;36m_run\u001b[0;34m(self, handle, fetches, feed_dict, options, run_metadata)\u001b[0m\n\u001b[1;32m   1161\u001b[0m             \u001b[0mfeed_handles\u001b[0m\u001b[0;34m[\u001b[0m\u001b[0msubfeed_t\u001b[0m\u001b[0;34m.\u001b[0m\u001b[0mref\u001b[0m\u001b[0;34m(\u001b[0m\u001b[0;34m)\u001b[0m\u001b[0;34m]\u001b[0m \u001b[0;34m=\u001b[0m \u001b[0msubfeed_val\u001b[0m\u001b[0;34m\u001b[0m\u001b[0;34m\u001b[0m\u001b[0m\n\u001b[1;32m   1162\u001b[0m           \u001b[0;32melse\u001b[0m\u001b[0;34m:\u001b[0m\u001b[0;34m\u001b[0m\u001b[0;34m\u001b[0m\u001b[0m\n\u001b[0;32m-> 1163\u001b[0;31m             \u001b[0mnp_val\u001b[0m \u001b[0;34m=\u001b[0m \u001b[0mnp\u001b[0m\u001b[0;34m.\u001b[0m\u001b[0masarray\u001b[0m\u001b[0;34m(\u001b[0m\u001b[0msubfeed_val\u001b[0m\u001b[0;34m,\u001b[0m \u001b[0mdtype\u001b[0m\u001b[0;34m=\u001b[0m\u001b[0msubfeed_dtype\u001b[0m\u001b[0;34m)\u001b[0m\u001b[0;34m\u001b[0m\u001b[0;34m\u001b[0m\u001b[0m\n\u001b[0m\u001b[1;32m   1164\u001b[0m \u001b[0;34m\u001b[0m\u001b[0m\n\u001b[1;32m   1165\u001b[0m           if (not is_tensor_handle_feed and\n",
            "\u001b[0;32m/usr/local/lib/python3.7/dist-packages/numpy/core/_asarray.py\u001b[0m in \u001b[0;36masarray\u001b[0;34m(a, dtype, order)\u001b[0m\n\u001b[1;32m     81\u001b[0m \u001b[0;34m\u001b[0m\u001b[0m\n\u001b[1;32m     82\u001b[0m     \"\"\"\n\u001b[0;32m---> 83\u001b[0;31m     \u001b[0;32mreturn\u001b[0m \u001b[0marray\u001b[0m\u001b[0;34m(\u001b[0m\u001b[0ma\u001b[0m\u001b[0;34m,\u001b[0m \u001b[0mdtype\u001b[0m\u001b[0;34m,\u001b[0m \u001b[0mcopy\u001b[0m\u001b[0;34m=\u001b[0m\u001b[0;32mFalse\u001b[0m\u001b[0;34m,\u001b[0m \u001b[0morder\u001b[0m\u001b[0;34m=\u001b[0m\u001b[0morder\u001b[0m\u001b[0;34m)\u001b[0m\u001b[0;34m\u001b[0m\u001b[0;34m\u001b[0m\u001b[0m\n\u001b[0m\u001b[1;32m     84\u001b[0m \u001b[0;34m\u001b[0m\u001b[0m\n\u001b[1;32m     85\u001b[0m \u001b[0;34m\u001b[0m\u001b[0m\n",
            "\u001b[0;31mValueError\u001b[0m: setting an array element with a sequence."
          ]
        }
      ]
    },
    {
      "cell_type": "code",
      "metadata": {
        "id": "l-4W7ZLej4RO"
      },
      "source": [
        "def recall(preds,labs):\n",
        "    tp,tn,fn,fp = 0,0,0,0\n",
        "    for (_,p),l in zip(preds,labs):\n",
        "        if p >= .5 and l == 1:\n",
        "            tp += 1\n",
        "        elif p < .5 and l == 1:\n",
        "            fn += 1\n",
        "        elif p >= .5 and l == 0:\n",
        "            fp += 1\n",
        "        else:\n",
        "            tn += 1\n",
        "    return tp / (tp + fn)\n",
        "\n",
        "\n",
        "def precision(preds,labs):\n",
        "    tp,tn,fn,fp = 0,0,0,0\n",
        "    for (_,p),l in zip(preds,labs):\n",
        "        if p >= .5 and l == 1:\n",
        "            tp += 1\n",
        "        elif p < .5 and l == 1:\n",
        "            fn += 1\n",
        "        elif p >= .5 and l == 0:\n",
        "            fp += 1\n",
        "        else:\n",
        "            tn += 1\n",
        "    return tp / (tp + fp)\n",
        "\n",
        "def f1(preds,labs):\n",
        "    r,p = recall(preds,labs), precision(preds,labs)\n",
        "    return 2 * r * p / (r + p)"
      ],
      "execution_count": 59,
      "outputs": []
    },
    {
      "cell_type": "code",
      "metadata": {
        "id": "3uoJUTyWj57j",
        "colab": {
          "base_uri": "https://localhost:8080/",
          "height": 201
        },
        "outputId": "b2fef2ba-29c4-439b-87c4-a20edd01d519"
      },
      "source": [
        "print(recall(pred,testY))\n",
        "print(precision(pred,testY))\n",
        "print(f1(pred,testY))"
      ],
      "execution_count": 60,
      "outputs": [
        {
          "output_type": "error",
          "ename": "NameError",
          "evalue": "ignored",
          "traceback": [
            "\u001b[0;31m---------------------------------------------------------------------------\u001b[0m",
            "\u001b[0;31mNameError\u001b[0m                                 Traceback (most recent call last)",
            "\u001b[0;32m<ipython-input-60-217a9a5e61a1>\u001b[0m in \u001b[0;36m<module>\u001b[0;34m()\u001b[0m\n\u001b[0;32m----> 1\u001b[0;31m \u001b[0mprint\u001b[0m\u001b[0;34m(\u001b[0m\u001b[0mrecall\u001b[0m\u001b[0;34m(\u001b[0m\u001b[0mpred\u001b[0m\u001b[0;34m,\u001b[0m\u001b[0mtestY\u001b[0m\u001b[0;34m)\u001b[0m\u001b[0;34m)\u001b[0m\u001b[0;34m\u001b[0m\u001b[0;34m\u001b[0m\u001b[0m\n\u001b[0m\u001b[1;32m      2\u001b[0m \u001b[0mprint\u001b[0m\u001b[0;34m(\u001b[0m\u001b[0mprecision\u001b[0m\u001b[0;34m(\u001b[0m\u001b[0mpred\u001b[0m\u001b[0;34m,\u001b[0m\u001b[0mtestY\u001b[0m\u001b[0;34m)\u001b[0m\u001b[0;34m)\u001b[0m\u001b[0;34m\u001b[0m\u001b[0;34m\u001b[0m\u001b[0m\n\u001b[1;32m      3\u001b[0m \u001b[0mprint\u001b[0m\u001b[0;34m(\u001b[0m\u001b[0mf1\u001b[0m\u001b[0;34m(\u001b[0m\u001b[0mpred\u001b[0m\u001b[0;34m,\u001b[0m\u001b[0mtestY\u001b[0m\u001b[0;34m)\u001b[0m\u001b[0;34m)\u001b[0m\u001b[0;34m\u001b[0m\u001b[0;34m\u001b[0m\u001b[0m\n",
            "\u001b[0;31mNameError\u001b[0m: name 'pred' is not defined"
          ]
        }
      ]
    },
    {
      "cell_type": "code",
      "metadata": {
        "id": "0TqUOCBoj7mR"
      },
      "source": [
        "def gatherSequencesFromFasta(filename):\n",
        "  s = ''\n",
        "  all_candidates = []\n",
        "  all_positions = []\n",
        "  for line in open(filename):\n",
        "    if not line.startswith('>'):\n",
        "      s += line.strip()\n",
        "\n",
        "  for i in range(99, len(s)-99):\n",
        "    if s[i:i+2]=='GT':\n",
        "      candidate_site=s[i-99:i+2+99]\n",
        "      all_candidates.append(candidate_site)\n",
        "      all_positions.append(i)\n",
        "\n",
        "  return all_candidates, all_positions\n",
        "\n",
        "\n",
        "def formatPositionsAndPredictions(candidates, positions, predictions):\n",
        "  print('----------------------------')\n",
        "  print('  Pos  | candidate |   pred ')\n",
        "  print('----------------------------')\n",
        "\n",
        "  for cand, pos, (_, pred) in zip (candidates, positions, predictions):\n",
        "    print(' {:04d}  | {} |   {:1.4f}'.format(pos,cand[100-5:100+5],pred))"
      ],
      "execution_count": 61,
      "outputs": []
    },
    {
      "cell_type": "code",
      "metadata": {
        "id": "djVgX9tkj_1Q"
      },
      "source": [
        "candidates, positions = gatherSequencesFromFasta(\"/content/mnts/MyDrive/inputs/full_sample.fasta\")"
      ],
      "execution_count": null,
      "outputs": []
    },
    {
      "cell_type": "code",
      "metadata": {
        "id": "EpdgPBOVkBgA"
      },
      "source": [
        "pred = cnn.generatePredictions(convertLines(candidates))"
      ],
      "execution_count": null,
      "outputs": []
    },
    {
      "cell_type": "code",
      "metadata": {
        "id": "ezQnv1m_kC5q"
      },
      "source": [
        "formatPositionsAndPredictions(candidates,positions, pred)"
      ],
      "execution_count": null,
      "outputs": []
    },
    {
      "cell_type": "code",
      "metadata": {
        "id": "diZfEQhhkEQ7"
      },
      "source": [
        ""
      ],
      "execution_count": null,
      "outputs": []
    }
  ]
}